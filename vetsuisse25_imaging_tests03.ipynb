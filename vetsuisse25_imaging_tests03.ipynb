{
 "cells": [
  {
   "cell_type": "markdown",
   "id": "3a5c0eba",
   "metadata": {},
   "source": [
    "## Imports"
   ]
  },
  {
   "cell_type": "code",
   "execution_count": 230,
   "id": "f7452b6f",
   "metadata": {},
   "outputs": [
    {
     "name": "stdout",
     "output_type": "stream",
     "text": [
      "The autoreload extension is already loaded. To reload it, use:\n",
      "  %reload_ext autoreload\n"
     ]
    }
   ],
   "source": [
    "%load_ext autoreload\n",
    "%autoreload 2\n",
    "\n",
    "import os\n",
    "import sys\n",
    "# from napari_convpaint.conv_paint_utils import *\n",
    "# from napari_convpaint.conv_paint_model import *\n",
    "# from napari_convpaint.conv_paint_param import Param\n",
    "from PIL import Image\n",
    "import numpy as np\n",
    "from matplotlib import pyplot as plt\n",
    "import napari\n",
    "from skimage import morphology\n",
    "import seaborn as sns\n",
    "import pandas as pd\n",
    "from aicsimageio import AICSImage\n",
    "\n",
    "from CellAnalyzer import CellAnalyzer\n",
    "import vetsuisse25_imaging"
   ]
  },
  {
   "cell_type": "code",
   "execution_count": 251,
   "id": "bf4e753b",
   "metadata": {},
   "outputs": [],
   "source": [
    "virus = \"229E\" # \"229E\" or \"MERS\"\n",
    "in_path = \"../imaging_data/21122022_images_jinglecells_SO_AK/\" + virus"
   ]
  },
  {
   "cell_type": "code",
   "execution_count": 261,
   "id": "6fab087a",
   "metadata": {},
   "outputs": [
    {
     "name": "stdout",
     "output_type": "stream",
     "text": [
      ">>> GPU activated? NO\n",
      ">>> GPU activated? NO\n"
     ]
    }
   ],
   "source": [
    "ca = CellAnalyzer.load(in_path + \"/CellAnalyzer/CellAnalyzer.pkl\")"
   ]
  },
  {
   "cell_type": "markdown",
   "id": "96729a33",
   "metadata": {},
   "source": [
    "## Data loading and inspection"
   ]
  },
  {
   "cell_type": "markdown",
   "id": "c582a2aa",
   "metadata": {},
   "source": [
    "Create an object with the path to the data."
   ]
  },
  {
   "cell_type": "code",
   "execution_count": null,
   "id": "7a927c05",
   "metadata": {},
   "outputs": [
    {
     "name": "stdout",
     "output_type": "stream",
     "text": [
      ">>> GPU activated? NO\n"
     ]
    }
   ],
   "source": [
    "# ca = CellAnalyzer(in_path)"
   ]
  },
  {
   "cell_type": "markdown",
   "id": "0bdb78d2",
   "metadata": {},
   "source": [
    "Display the data table."
   ]
  },
  {
   "cell_type": "code",
   "execution_count": 262,
   "id": "ec5b02e7",
   "metadata": {},
   "outputs": [
    {
     "name": "stdout",
     "output_type": "stream",
     "text": [
      "7 images loaded\n"
     ]
    },
    {
     "data": {
      "text/html": [
       "<div>\n",
       "<style scoped>\n",
       "    .dataframe tbody tr th:only-of-type {\n",
       "        vertical-align: middle;\n",
       "    }\n",
       "\n",
       "    .dataframe tbody tr th {\n",
       "        vertical-align: top;\n",
       "    }\n",
       "\n",
       "    .dataframe thead th {\n",
       "        text-align: right;\n",
       "    }\n",
       "</style>\n",
       "<table border=\"1\" class=\"dataframe\">\n",
       "  <thead>\n",
       "    <tr style=\"text-align: right;\">\n",
       "      <th></th>\n",
       "      <th>condition</th>\n",
       "      <th>donor</th>\n",
       "      <th>time</th>\n",
       "      <th>date</th>\n",
       "      <th>sample</th>\n",
       "      <th>replicate</th>\n",
       "      <th>sample_id</th>\n",
       "      <th>mode1</th>\n",
       "      <th>mode2</th>\n",
       "      <th>filename</th>\n",
       "      <th>filepath</th>\n",
       "    </tr>\n",
       "  </thead>\n",
       "  <tbody>\n",
       "    <tr>\n",
       "      <th>0</th>\n",
       "      <td>229E</td>\n",
       "      <td>BEC5</td>\n",
       "      <td>48h</td>\n",
       "      <td>2021-12-22</td>\n",
       "      <td>00</td>\n",
       "      <td>1</td>\n",
       "      <td>BEC5_1</td>\n",
       "      <td>R3D</td>\n",
       "      <td>D3D</td>\n",
       "      <td>229E_BEC5_48h_21.12.22_R3D_D3D.dv</td>\n",
       "      <td>C:\\Users\\roman\\Documents\\Vetsuisse\\imaging_dat...</td>\n",
       "    </tr>\n",
       "    <tr>\n",
       "      <th>1</th>\n",
       "      <td>229E</td>\n",
       "      <td>BEC5</td>\n",
       "      <td>48h</td>\n",
       "      <td>2021-12-22</td>\n",
       "      <td>02</td>\n",
       "      <td>2</td>\n",
       "      <td>BEC5_2</td>\n",
       "      <td>R3D</td>\n",
       "      <td>D3D</td>\n",
       "      <td>229E_BEC5_48h_21.12.22.02_R3D_D3D.dv</td>\n",
       "      <td>C:\\Users\\roman\\Documents\\Vetsuisse\\imaging_dat...</td>\n",
       "    </tr>\n",
       "    <tr>\n",
       "      <th>2</th>\n",
       "      <td>229E</td>\n",
       "      <td>BEC5</td>\n",
       "      <td>48h</td>\n",
       "      <td>2021-12-22</td>\n",
       "      <td>03</td>\n",
       "      <td>3</td>\n",
       "      <td>BEC5_3</td>\n",
       "      <td>R3D</td>\n",
       "      <td>D3D</td>\n",
       "      <td>229E_BEC5_48h_21.12.22.03_R3D_D3D.dv</td>\n",
       "      <td>C:\\Users\\roman\\Documents\\Vetsuisse\\imaging_dat...</td>\n",
       "    </tr>\n",
       "    <tr>\n",
       "      <th>3</th>\n",
       "      <td>229E</td>\n",
       "      <td>BEC6</td>\n",
       "      <td>48h</td>\n",
       "      <td>2021-12-22</td>\n",
       "      <td>01</td>\n",
       "      <td>1</td>\n",
       "      <td>BEC6_1</td>\n",
       "      <td>R3D</td>\n",
       "      <td>D3D</td>\n",
       "      <td>229E_BEC6_48h_21.12.22.01_R3D_D3D.dv</td>\n",
       "      <td>C:\\Users\\roman\\Documents\\Vetsuisse\\imaging_dat...</td>\n",
       "    </tr>\n",
       "    <tr>\n",
       "      <th>4</th>\n",
       "      <td>33mock</td>\n",
       "      <td>BEC5</td>\n",
       "      <td>48h</td>\n",
       "      <td>2021-12-22</td>\n",
       "      <td>02</td>\n",
       "      <td>1</td>\n",
       "      <td>BEC5_1</td>\n",
       "      <td>R3D</td>\n",
       "      <td>D3D</td>\n",
       "      <td>33mock_BEC5_48h_21.12.22.02_R3D_D3D.dv</td>\n",
       "      <td>C:\\Users\\roman\\Documents\\Vetsuisse\\imaging_dat...</td>\n",
       "    </tr>\n",
       "    <tr>\n",
       "      <th>5</th>\n",
       "      <td>33mock</td>\n",
       "      <td>BEC6</td>\n",
       "      <td>48h</td>\n",
       "      <td>2021-12-22</td>\n",
       "      <td>01</td>\n",
       "      <td>1</td>\n",
       "      <td>BEC6_1</td>\n",
       "      <td>R3D</td>\n",
       "      <td>D3D</td>\n",
       "      <td>33mock_BEC6_48h_21.12.22.01_R3D_D3D.dv</td>\n",
       "      <td>C:\\Users\\roman\\Documents\\Vetsuisse\\imaging_dat...</td>\n",
       "    </tr>\n",
       "    <tr>\n",
       "      <th>6</th>\n",
       "      <td>33mock</td>\n",
       "      <td>BEC6</td>\n",
       "      <td>48h</td>\n",
       "      <td>2021-12-22</td>\n",
       "      <td>02</td>\n",
       "      <td>2</td>\n",
       "      <td>BEC6_2</td>\n",
       "      <td>R3D</td>\n",
       "      <td>D3D</td>\n",
       "      <td>33mock_BEC6_48h_21.12.22.02_R3D_D3D.dv</td>\n",
       "      <td>C:\\Users\\roman\\Documents\\Vetsuisse\\imaging_dat...</td>\n",
       "    </tr>\n",
       "  </tbody>\n",
       "</table>\n",
       "</div>"
      ],
      "text/plain": [
       "  condition donor time       date sample  replicate sample_id mode1 mode2  \\\n",
       "0      229E  BEC5  48h 2021-12-22     00          1    BEC5_1   R3D   D3D   \n",
       "1      229E  BEC5  48h 2021-12-22     02          2    BEC5_2   R3D   D3D   \n",
       "2      229E  BEC5  48h 2021-12-22     03          3    BEC5_3   R3D   D3D   \n",
       "3      229E  BEC6  48h 2021-12-22     01          1    BEC6_1   R3D   D3D   \n",
       "4    33mock  BEC5  48h 2021-12-22     02          1    BEC5_1   R3D   D3D   \n",
       "5    33mock  BEC6  48h 2021-12-22     01          1    BEC6_1   R3D   D3D   \n",
       "6    33mock  BEC6  48h 2021-12-22     02          2    BEC6_2   R3D   D3D   \n",
       "\n",
       "                                 filename  \\\n",
       "0       229E_BEC5_48h_21.12.22_R3D_D3D.dv   \n",
       "1    229E_BEC5_48h_21.12.22.02_R3D_D3D.dv   \n",
       "2    229E_BEC5_48h_21.12.22.03_R3D_D3D.dv   \n",
       "3    229E_BEC6_48h_21.12.22.01_R3D_D3D.dv   \n",
       "4  33mock_BEC5_48h_21.12.22.02_R3D_D3D.dv   \n",
       "5  33mock_BEC6_48h_21.12.22.01_R3D_D3D.dv   \n",
       "6  33mock_BEC6_48h_21.12.22.02_R3D_D3D.dv   \n",
       "\n",
       "                                            filepath  \n",
       "0  C:\\Users\\roman\\Documents\\Vetsuisse\\imaging_dat...  \n",
       "1  C:\\Users\\roman\\Documents\\Vetsuisse\\imaging_dat...  \n",
       "2  C:\\Users\\roman\\Documents\\Vetsuisse\\imaging_dat...  \n",
       "3  C:\\Users\\roman\\Documents\\Vetsuisse\\imaging_dat...  \n",
       "4  C:\\Users\\roman\\Documents\\Vetsuisse\\imaging_dat...  \n",
       "5  C:\\Users\\roman\\Documents\\Vetsuisse\\imaging_dat...  \n",
       "6  C:\\Users\\roman\\Documents\\Vetsuisse\\imaging_dat...  "
      ]
     },
     "metadata": {},
     "output_type": "display_data"
    }
   ],
   "source": [
    "df, imgs = ca.read_data()\n",
    "display(df)"
   ]
  },
  {
   "cell_type": "markdown",
   "id": "fb389b0f",
   "metadata": {},
   "source": [
    "Check dimensions."
   ]
  },
  {
   "cell_type": "code",
   "execution_count": 263,
   "id": "ebaf7031",
   "metadata": {},
   "outputs": [
    {
     "data": {
      "text/plain": [
       "(4, 68, 960, 960)"
      ]
     },
     "execution_count": 263,
     "metadata": {},
     "output_type": "execute_result"
    }
   ],
   "source": [
    "imgs[0].shape"
   ]
  },
  {
   "cell_type": "markdown",
   "id": "c1490365",
   "metadata": {},
   "source": [
    "Create projections."
   ]
  },
  {
   "cell_type": "code",
   "execution_count": 264,
   "id": "ff1058dd",
   "metadata": {},
   "outputs": [],
   "source": [
    "projections = ca.create_projections(types=[\"max\", \"max\", \"max\", \"max\"]) # Projection options: max, min, mean, median"
   ]
  },
  {
   "cell_type": "code",
   "execution_count": 265,
   "id": "1273b2a4",
   "metadata": {},
   "outputs": [
    {
     "name": "stdout",
     "output_type": "stream",
     "text": [
      "(4, 960, 960)\n",
      "['max', 'max', 'max', 'max']\n"
     ]
    }
   ],
   "source": [
    "print(ca.projections[0].shape)\n",
    "print(ca.projections_types)"
   ]
  },
  {
   "cell_type": "markdown",
   "id": "4edd7d97",
   "metadata": {},
   "source": [
    "## Segmentation"
   ]
  },
  {
   "cell_type": "code",
   "execution_count": 266,
   "id": "9c4630a0",
   "metadata": {},
   "outputs": [],
   "source": [
    "# masks, flows, styles, imgs_dn, outlines = ca.segment_cells(channels=[3,1]) # Channels for: Cytoplasm, Nucleus"
   ]
  },
  {
   "cell_type": "markdown",
   "id": "af6b278a",
   "metadata": {},
   "source": [
    "Check to make sure the data was loaded correctly (hiding the irrelevant columns); after segmentation, the table now includes information about the IDs of the cells in each sample."
   ]
  },
  {
   "cell_type": "code",
   "execution_count": 267,
   "id": "98ac2694",
   "metadata": {},
   "outputs": [
    {
     "data": {
      "text/html": [
       "<div>\n",
       "<style scoped>\n",
       "    .dataframe tbody tr th:only-of-type {\n",
       "        vertical-align: middle;\n",
       "    }\n",
       "\n",
       "    .dataframe tbody tr th {\n",
       "        vertical-align: top;\n",
       "    }\n",
       "\n",
       "    .dataframe thead th {\n",
       "        text-align: right;\n",
       "    }\n",
       "</style>\n",
       "<table border=\"1\" class=\"dataframe\">\n",
       "  <thead>\n",
       "    <tr style=\"text-align: right;\">\n",
       "      <th></th>\n",
       "      <th>condition</th>\n",
       "      <th>donor</th>\n",
       "      <th>replicate</th>\n",
       "      <th>sample_id</th>\n",
       "    </tr>\n",
       "  </thead>\n",
       "  <tbody>\n",
       "    <tr>\n",
       "      <th>0</th>\n",
       "      <td>229E</td>\n",
       "      <td>BEC5</td>\n",
       "      <td>1</td>\n",
       "      <td>BEC5_1</td>\n",
       "    </tr>\n",
       "    <tr>\n",
       "      <th>1</th>\n",
       "      <td>229E</td>\n",
       "      <td>BEC5</td>\n",
       "      <td>2</td>\n",
       "      <td>BEC5_2</td>\n",
       "    </tr>\n",
       "    <tr>\n",
       "      <th>2</th>\n",
       "      <td>229E</td>\n",
       "      <td>BEC5</td>\n",
       "      <td>3</td>\n",
       "      <td>BEC5_3</td>\n",
       "    </tr>\n",
       "    <tr>\n",
       "      <th>3</th>\n",
       "      <td>229E</td>\n",
       "      <td>BEC6</td>\n",
       "      <td>1</td>\n",
       "      <td>BEC6_1</td>\n",
       "    </tr>\n",
       "    <tr>\n",
       "      <th>4</th>\n",
       "      <td>33mock</td>\n",
       "      <td>BEC5</td>\n",
       "      <td>1</td>\n",
       "      <td>BEC5_1</td>\n",
       "    </tr>\n",
       "    <tr>\n",
       "      <th>5</th>\n",
       "      <td>33mock</td>\n",
       "      <td>BEC6</td>\n",
       "      <td>1</td>\n",
       "      <td>BEC6_1</td>\n",
       "    </tr>\n",
       "    <tr>\n",
       "      <th>6</th>\n",
       "      <td>33mock</td>\n",
       "      <td>BEC6</td>\n",
       "      <td>2</td>\n",
       "      <td>BEC6_2</td>\n",
       "    </tr>\n",
       "  </tbody>\n",
       "</table>\n",
       "</div>"
      ],
      "text/plain": [
       "  condition donor  replicate sample_id\n",
       "0      229E  BEC5          1    BEC5_1\n",
       "1      229E  BEC5          2    BEC5_2\n",
       "2      229E  BEC5          3    BEC5_3\n",
       "3      229E  BEC6          1    BEC6_1\n",
       "4    33mock  BEC5          1    BEC5_1\n",
       "5    33mock  BEC6          1    BEC6_1\n",
       "6    33mock  BEC6          2    BEC6_2"
      ]
     },
     "execution_count": 267,
     "metadata": {},
     "output_type": "execute_result"
    }
   ],
   "source": [
    "df = ca.samples_df.drop(columns=[\"time\", \"date\", \"sample\", \"mode1\", \"mode2\", \"filename\", \"filepath\", \"projection_types\"])\n",
    "df"
   ]
  },
  {
   "cell_type": "markdown",
   "id": "eb1b85d1",
   "metadata": {},
   "source": [
    "And we now also have a cells table, which contains the information about the sample plus cell-specific information."
   ]
  },
  {
   "cell_type": "code",
   "execution_count": 268,
   "id": "683de48b",
   "metadata": {},
   "outputs": [
    {
     "data": {
      "text/html": [
       "<div>\n",
       "<style scoped>\n",
       "    .dataframe tbody tr th:only-of-type {\n",
       "        vertical-align: middle;\n",
       "    }\n",
       "\n",
       "    .dataframe tbody tr th {\n",
       "        vertical-align: top;\n",
       "    }\n",
       "\n",
       "    .dataframe thead th {\n",
       "        text-align: right;\n",
       "    }\n",
       "</style>\n",
       "<table border=\"1\" class=\"dataframe\">\n",
       "  <thead>\n",
       "    <tr style=\"text-align: right;\">\n",
       "      <th></th>\n",
       "      <th>condition</th>\n",
       "      <th>donor</th>\n",
       "      <th>replicate</th>\n",
       "      <th>sample_id</th>\n",
       "      <th>cilia_mean</th>\n",
       "      <th>cilia_mean_log10</th>\n",
       "      <th>inf_mean</th>\n",
       "      <th>inf_mean_log10</th>\n",
       "      <th>inf</th>\n",
       "      <th>cilia</th>\n",
       "      <th>cil_inf_pop</th>\n",
       "    </tr>\n",
       "    <tr>\n",
       "      <th>cell_id</th>\n",
       "      <th></th>\n",
       "      <th></th>\n",
       "      <th></th>\n",
       "      <th></th>\n",
       "      <th></th>\n",
       "      <th></th>\n",
       "      <th></th>\n",
       "      <th></th>\n",
       "      <th></th>\n",
       "      <th></th>\n",
       "      <th></th>\n",
       "    </tr>\n",
       "  </thead>\n",
       "  <tbody>\n",
       "    <tr>\n",
       "      <th>1201</th>\n",
       "      <td>33mock</td>\n",
       "      <td>BEC6</td>\n",
       "      <td>2</td>\n",
       "      <td>BEC6_2</td>\n",
       "      <td>6839.446999</td>\n",
       "      <td>3.835021</td>\n",
       "      <td>3534.795019</td>\n",
       "      <td>3.548364</td>\n",
       "      <td>partial</td>\n",
       "      <td>positive</td>\n",
       "      <td>cil_pos_inf_par</td>\n",
       "    </tr>\n",
       "    <tr>\n",
       "      <th>1202</th>\n",
       "      <td>33mock</td>\n",
       "      <td>BEC6</td>\n",
       "      <td>2</td>\n",
       "      <td>BEC6_2</td>\n",
       "      <td>5185.324748</td>\n",
       "      <td>3.714776</td>\n",
       "      <td>3417.686450</td>\n",
       "      <td>3.533732</td>\n",
       "      <td>partial</td>\n",
       "      <td>negative</td>\n",
       "      <td>cil_neg_inf_par</td>\n",
       "    </tr>\n",
       "    <tr>\n",
       "      <th>1203</th>\n",
       "      <td>33mock</td>\n",
       "      <td>BEC6</td>\n",
       "      <td>2</td>\n",
       "      <td>BEC6_2</td>\n",
       "      <td>6587.053950</td>\n",
       "      <td>3.818691</td>\n",
       "      <td>3781.516859</td>\n",
       "      <td>3.577666</td>\n",
       "      <td>partial</td>\n",
       "      <td>negative</td>\n",
       "      <td>cil_neg_inf_par</td>\n",
       "    </tr>\n",
       "    <tr>\n",
       "      <th>1204</th>\n",
       "      <td>33mock</td>\n",
       "      <td>BEC6</td>\n",
       "      <td>2</td>\n",
       "      <td>BEC6_2</td>\n",
       "      <td>7844.070552</td>\n",
       "      <td>3.894541</td>\n",
       "      <td>3199.999387</td>\n",
       "      <td>3.505150</td>\n",
       "      <td>negative</td>\n",
       "      <td>positive</td>\n",
       "      <td>cil_pos_inf_neg</td>\n",
       "    </tr>\n",
       "    <tr>\n",
       "      <th>1205</th>\n",
       "      <td>33mock</td>\n",
       "      <td>BEC6</td>\n",
       "      <td>2</td>\n",
       "      <td>BEC6_2</td>\n",
       "      <td>6220.638658</td>\n",
       "      <td>3.793835</td>\n",
       "      <td>2820.527227</td>\n",
       "      <td>3.450330</td>\n",
       "      <td>negative</td>\n",
       "      <td>negative</td>\n",
       "      <td>cil_neg_inf_neg</td>\n",
       "    </tr>\n",
       "  </tbody>\n",
       "</table>\n",
       "</div>"
      ],
      "text/plain": [
       "        condition donor  replicate sample_id   cilia_mean  cilia_mean_log10  \\\n",
       "cell_id                                                                       \n",
       "1201       33mock  BEC6          2    BEC6_2  6839.446999          3.835021   \n",
       "1202       33mock  BEC6          2    BEC6_2  5185.324748          3.714776   \n",
       "1203       33mock  BEC6          2    BEC6_2  6587.053950          3.818691   \n",
       "1204       33mock  BEC6          2    BEC6_2  7844.070552          3.894541   \n",
       "1205       33mock  BEC6          2    BEC6_2  6220.638658          3.793835   \n",
       "\n",
       "            inf_mean  inf_mean_log10       inf     cilia      cil_inf_pop  \n",
       "cell_id                                                                    \n",
       "1201     3534.795019        3.548364   partial  positive  cil_pos_inf_par  \n",
       "1202     3417.686450        3.533732   partial  negative  cil_neg_inf_par  \n",
       "1203     3781.516859        3.577666   partial  negative  cil_neg_inf_par  \n",
       "1204     3199.999387        3.505150  negative  positive  cil_pos_inf_neg  \n",
       "1205     2820.527227        3.450330  negative  negative  cil_neg_inf_neg  "
      ]
     },
     "execution_count": 268,
     "metadata": {},
     "output_type": "execute_result"
    }
   ],
   "source": [
    "cells_df = ca.cells_df.drop(columns=[\"time\", \"date\", \"sample\", \"mode1\", \"mode2\", \"filename\", \"filepath\", \"projection_types\"])\n",
    "cells_df.iloc[1200:1205]"
   ]
  },
  {
   "cell_type": "markdown",
   "id": "c29604af",
   "metadata": {},
   "source": [
    "Save segmentation results, just for viusalization purposes."
   ]
  },
  {
   "cell_type": "code",
   "execution_count": 269,
   "id": "cb0e088c",
   "metadata": {},
   "outputs": [],
   "source": [
    "# ca.save_segmentation_imgs(background_channels=[4,2], overwrite=True)"
   ]
  },
  {
   "cell_type": "markdown",
   "id": "0deabdd9",
   "metadata": {},
   "source": [
    "Save the data, so we can load it later."
   ]
  },
  {
   "cell_type": "code",
   "execution_count": 270,
   "id": "a6555818",
   "metadata": {},
   "outputs": [],
   "source": [
    "# ca.save(overwrite=True)"
   ]
  },
  {
   "cell_type": "markdown",
   "id": "ee98bd6e",
   "metadata": {},
   "source": [
    "## Calculate Cell Signals"
   ]
  },
  {
   "cell_type": "markdown",
   "id": "3a40279b",
   "metadata": {},
   "source": [
    "Mean, or alternatively Median."
   ]
  },
  {
   "cell_type": "code",
   "execution_count": null,
   "id": "066bf157",
   "metadata": {},
   "outputs": [],
   "source": [
    "signals_mode = \"mean\" # \"mean\" or \"median\""
   ]
  },
  {
   "cell_type": "code",
   "execution_count": 272,
   "id": "0cac9e9f",
   "metadata": {},
   "outputs": [],
   "source": [
    "cells_df, signals_masks = ca.calculate_cell_signals({\"cilia\": 4, \"inf\": 2}, mode=signals_mode)"
   ]
  },
  {
   "cell_type": "markdown",
   "id": "de57f697",
   "metadata": {},
   "source": [
    "Check the new columns in the data table."
   ]
  },
  {
   "cell_type": "code",
   "execution_count": 273,
   "id": "eed1208f",
   "metadata": {},
   "outputs": [
    {
     "data": {
      "text/html": [
       "<div>\n",
       "<style scoped>\n",
       "    .dataframe tbody tr th:only-of-type {\n",
       "        vertical-align: middle;\n",
       "    }\n",
       "\n",
       "    .dataframe tbody tr th {\n",
       "        vertical-align: top;\n",
       "    }\n",
       "\n",
       "    .dataframe thead th {\n",
       "        text-align: right;\n",
       "    }\n",
       "</style>\n",
       "<table border=\"1\" class=\"dataframe\">\n",
       "  <thead>\n",
       "    <tr style=\"text-align: right;\">\n",
       "      <th></th>\n",
       "      <th>condition</th>\n",
       "      <th>donor</th>\n",
       "      <th>replicate</th>\n",
       "      <th>sample_id</th>\n",
       "      <th>cilia_mean</th>\n",
       "      <th>cilia_mean_log10</th>\n",
       "      <th>inf_mean</th>\n",
       "      <th>inf_mean_log10</th>\n",
       "      <th>inf</th>\n",
       "      <th>cilia</th>\n",
       "      <th>cil_inf_pop</th>\n",
       "    </tr>\n",
       "    <tr>\n",
       "      <th>cell_id</th>\n",
       "      <th></th>\n",
       "      <th></th>\n",
       "      <th></th>\n",
       "      <th></th>\n",
       "      <th></th>\n",
       "      <th></th>\n",
       "      <th></th>\n",
       "      <th></th>\n",
       "      <th></th>\n",
       "      <th></th>\n",
       "      <th></th>\n",
       "    </tr>\n",
       "  </thead>\n",
       "  <tbody>\n",
       "    <tr>\n",
       "      <th>1201</th>\n",
       "      <td>33mock</td>\n",
       "      <td>BEC6</td>\n",
       "      <td>2</td>\n",
       "      <td>BEC6_2</td>\n",
       "      <td>6839.446999</td>\n",
       "      <td>3.835021</td>\n",
       "      <td>3534.795019</td>\n",
       "      <td>3.548364</td>\n",
       "      <td>partial</td>\n",
       "      <td>positive</td>\n",
       "      <td>cil_pos_inf_par</td>\n",
       "    </tr>\n",
       "    <tr>\n",
       "      <th>1202</th>\n",
       "      <td>33mock</td>\n",
       "      <td>BEC6</td>\n",
       "      <td>2</td>\n",
       "      <td>BEC6_2</td>\n",
       "      <td>5185.324748</td>\n",
       "      <td>3.714776</td>\n",
       "      <td>3417.686450</td>\n",
       "      <td>3.533732</td>\n",
       "      <td>partial</td>\n",
       "      <td>negative</td>\n",
       "      <td>cil_neg_inf_par</td>\n",
       "    </tr>\n",
       "    <tr>\n",
       "      <th>1203</th>\n",
       "      <td>33mock</td>\n",
       "      <td>BEC6</td>\n",
       "      <td>2</td>\n",
       "      <td>BEC6_2</td>\n",
       "      <td>6587.053950</td>\n",
       "      <td>3.818691</td>\n",
       "      <td>3781.516859</td>\n",
       "      <td>3.577666</td>\n",
       "      <td>partial</td>\n",
       "      <td>negative</td>\n",
       "      <td>cil_neg_inf_par</td>\n",
       "    </tr>\n",
       "    <tr>\n",
       "      <th>1204</th>\n",
       "      <td>33mock</td>\n",
       "      <td>BEC6</td>\n",
       "      <td>2</td>\n",
       "      <td>BEC6_2</td>\n",
       "      <td>7844.070552</td>\n",
       "      <td>3.894541</td>\n",
       "      <td>3199.999387</td>\n",
       "      <td>3.505150</td>\n",
       "      <td>negative</td>\n",
       "      <td>positive</td>\n",
       "      <td>cil_pos_inf_neg</td>\n",
       "    </tr>\n",
       "    <tr>\n",
       "      <th>1205</th>\n",
       "      <td>33mock</td>\n",
       "      <td>BEC6</td>\n",
       "      <td>2</td>\n",
       "      <td>BEC6_2</td>\n",
       "      <td>6220.638658</td>\n",
       "      <td>3.793835</td>\n",
       "      <td>2820.527227</td>\n",
       "      <td>3.450330</td>\n",
       "      <td>negative</td>\n",
       "      <td>negative</td>\n",
       "      <td>cil_neg_inf_neg</td>\n",
       "    </tr>\n",
       "  </tbody>\n",
       "</table>\n",
       "</div>"
      ],
      "text/plain": [
       "        condition donor  replicate sample_id   cilia_mean  cilia_mean_log10  \\\n",
       "cell_id                                                                       \n",
       "1201       33mock  BEC6          2    BEC6_2  6839.446999          3.835021   \n",
       "1202       33mock  BEC6          2    BEC6_2  5185.324748          3.714776   \n",
       "1203       33mock  BEC6          2    BEC6_2  6587.053950          3.818691   \n",
       "1204       33mock  BEC6          2    BEC6_2  7844.070552          3.894541   \n",
       "1205       33mock  BEC6          2    BEC6_2  6220.638658          3.793835   \n",
       "\n",
       "            inf_mean  inf_mean_log10       inf     cilia      cil_inf_pop  \n",
       "cell_id                                                                    \n",
       "1201     3534.795019        3.548364   partial  positive  cil_pos_inf_par  \n",
       "1202     3417.686450        3.533732   partial  negative  cil_neg_inf_par  \n",
       "1203     3781.516859        3.577666   partial  negative  cil_neg_inf_par  \n",
       "1204     3199.999387        3.505150  negative  positive  cil_pos_inf_neg  \n",
       "1205     2820.527227        3.450330  negative  negative  cil_neg_inf_neg  "
      ]
     },
     "execution_count": 273,
     "metadata": {},
     "output_type": "execute_result"
    }
   ],
   "source": [
    "cells_df = ca.cells_df.drop(columns=[\"time\", \"date\", \"sample\", \"mode1\", \"mode2\", \"filename\", \"filepath\", \"projection_types\"])\n",
    "cells_df.iloc[1200:1205]"
   ]
  },
  {
   "cell_type": "markdown",
   "id": "fd4598e1",
   "metadata": {},
   "source": [
    "We can also get the masks with the signals for each cell."
   ]
  },
  {
   "cell_type": "code",
   "execution_count": 274,
   "id": "4cbd277f",
   "metadata": {},
   "outputs": [
    {
     "data": {
      "image/png": "[encoded data removed]",
      "text/plain": [
       "<Figure size 640x480 with 1 Axes>"
      ]
     },
     "metadata": {},
     "output_type": "display_data"
    }
   ],
   "source": [
    "ex_signal_mask = ca.signals_masks[\"cilia\"][3]\n",
    "plt.imshow(ex_signal_mask)\n",
    "plt.axis(\"off\")\n",
    "plt.show()"
   ]
  },
  {
   "cell_type": "markdown",
   "id": "23bfe3ed",
   "metadata": {},
   "source": [
    "Save the data."
   ]
  },
  {
   "cell_type": "code",
   "execution_count": 275,
   "id": "81ea6928",
   "metadata": {},
   "outputs": [],
   "source": [
    "# ca.save(overwrite=True)"
   ]
  },
  {
   "cell_type": "markdown",
   "id": "fc42321d",
   "metadata": {},
   "source": [
    "## Define inf threshold and bin cells"
   ]
  },
  {
   "cell_type": "markdown",
   "id": "d52d4bfd",
   "metadata": {},
   "source": [
    "### Infection"
   ]
  },
  {
   "cell_type": "code",
   "execution_count": 276,
   "id": "2aa149c9",
   "metadata": {},
   "outputs": [
    {
     "name": "stdout",
     "output_type": "stream",
     "text": [
      "Inf log10 thresholds: 3.5164063539947428 | 3.5905367908489296\n"
     ]
    }
   ],
   "source": [
    "mock_inf_log10 = ca.cells_df[cells_df[\"condition\"].str.contains(\"mock\")][\"inf_mean_log10\"]\n",
    "inf_log10_thresh = mock_inf_log10.mean() + 3 * mock_inf_log10.std()\n",
    "inf_log10_thresh_low = mock_inf_log10.mean() + 1 * mock_inf_log10.std()\n",
    "threshs = [inf_log10_thresh, inf_log10_thresh_low]\n",
    "print(f\"Inf log10 thresholds: {inf_log10_thresh_low} | {inf_log10_thresh}\")"
   ]
  },
  {
   "cell_type": "code",
   "execution_count": 277,
   "id": "5e2359d5",
   "metadata": {},
   "outputs": [],
   "source": [
    "ca.bin_cell_signal(\"inf\", thresh=threshs)"
   ]
  },
  {
   "cell_type": "code",
   "execution_count": 278,
   "id": "ce41c52f",
   "metadata": {},
   "outputs": [
    {
     "data": {
      "text/html": [
       "<div>\n",
       "<style scoped>\n",
       "    .dataframe tbody tr th:only-of-type {\n",
       "        vertical-align: middle;\n",
       "    }\n",
       "\n",
       "    .dataframe tbody tr th {\n",
       "        vertical-align: top;\n",
       "    }\n",
       "\n",
       "    .dataframe thead th {\n",
       "        text-align: right;\n",
       "    }\n",
       "</style>\n",
       "<table border=\"1\" class=\"dataframe\">\n",
       "  <thead>\n",
       "    <tr style=\"text-align: right;\">\n",
       "      <th></th>\n",
       "      <th>condition</th>\n",
       "      <th>donor</th>\n",
       "      <th>replicate</th>\n",
       "      <th>sample_id</th>\n",
       "      <th>cilia_mean</th>\n",
       "      <th>cilia_mean_log10</th>\n",
       "      <th>inf_mean</th>\n",
       "      <th>inf_mean_log10</th>\n",
       "      <th>inf</th>\n",
       "      <th>cilia</th>\n",
       "      <th>cil_inf_pop</th>\n",
       "    </tr>\n",
       "    <tr>\n",
       "      <th>cell_id</th>\n",
       "      <th></th>\n",
       "      <th></th>\n",
       "      <th></th>\n",
       "      <th></th>\n",
       "      <th></th>\n",
       "      <th></th>\n",
       "      <th></th>\n",
       "      <th></th>\n",
       "      <th></th>\n",
       "      <th></th>\n",
       "      <th></th>\n",
       "    </tr>\n",
       "  </thead>\n",
       "  <tbody>\n",
       "    <tr>\n",
       "      <th>101</th>\n",
       "      <td>229E</td>\n",
       "      <td>BEC5</td>\n",
       "      <td>1</td>\n",
       "      <td>BEC5_1</td>\n",
       "      <td>6497.841971</td>\n",
       "      <td>3.812769</td>\n",
       "      <td>511.963466</td>\n",
       "      <td>2.709239</td>\n",
       "      <td>negative</td>\n",
       "      <td>negative</td>\n",
       "      <td>cil_neg_inf_neg</td>\n",
       "    </tr>\n",
       "    <tr>\n",
       "      <th>102</th>\n",
       "      <td>229E</td>\n",
       "      <td>BEC5</td>\n",
       "      <td>1</td>\n",
       "      <td>BEC5_1</td>\n",
       "      <td>9640.748302</td>\n",
       "      <td>3.984111</td>\n",
       "      <td>658.948159</td>\n",
       "      <td>2.818851</td>\n",
       "      <td>negative</td>\n",
       "      <td>positive</td>\n",
       "      <td>cil_pos_inf_neg</td>\n",
       "    </tr>\n",
       "    <tr>\n",
       "      <th>103</th>\n",
       "      <td>229E</td>\n",
       "      <td>BEC5</td>\n",
       "      <td>1</td>\n",
       "      <td>BEC5_1</td>\n",
       "      <td>8631.185060</td>\n",
       "      <td>3.936070</td>\n",
       "      <td>700.369745</td>\n",
       "      <td>2.845327</td>\n",
       "      <td>negative</td>\n",
       "      <td>positive</td>\n",
       "      <td>cil_pos_inf_neg</td>\n",
       "    </tr>\n",
       "    <tr>\n",
       "      <th>104</th>\n",
       "      <td>229E</td>\n",
       "      <td>BEC5</td>\n",
       "      <td>1</td>\n",
       "      <td>BEC5_1</td>\n",
       "      <td>5433.377873</td>\n",
       "      <td>3.735070</td>\n",
       "      <td>561.114377</td>\n",
       "      <td>2.749051</td>\n",
       "      <td>negative</td>\n",
       "      <td>negative</td>\n",
       "      <td>cil_neg_inf_neg</td>\n",
       "    </tr>\n",
       "    <tr>\n",
       "      <th>105</th>\n",
       "      <td>229E</td>\n",
       "      <td>BEC5</td>\n",
       "      <td>1</td>\n",
       "      <td>BEC5_1</td>\n",
       "      <td>6613.782108</td>\n",
       "      <td>3.820450</td>\n",
       "      <td>569.903922</td>\n",
       "      <td>2.755802</td>\n",
       "      <td>negative</td>\n",
       "      <td>negative</td>\n",
       "      <td>cil_neg_inf_neg</td>\n",
       "    </tr>\n",
       "  </tbody>\n",
       "</table>\n",
       "</div>"
      ],
      "text/plain": [
       "        condition donor  replicate sample_id   cilia_mean  cilia_mean_log10  \\\n",
       "cell_id                                                                       \n",
       "101          229E  BEC5          1    BEC5_1  6497.841971          3.812769   \n",
       "102          229E  BEC5          1    BEC5_1  9640.748302          3.984111   \n",
       "103          229E  BEC5          1    BEC5_1  8631.185060          3.936070   \n",
       "104          229E  BEC5          1    BEC5_1  5433.377873          3.735070   \n",
       "105          229E  BEC5          1    BEC5_1  6613.782108          3.820450   \n",
       "\n",
       "           inf_mean  inf_mean_log10       inf     cilia      cil_inf_pop  \n",
       "cell_id                                                                   \n",
       "101      511.963466        2.709239  negative  negative  cil_neg_inf_neg  \n",
       "102      658.948159        2.818851  negative  positive  cil_pos_inf_neg  \n",
       "103      700.369745        2.845327  negative  positive  cil_pos_inf_neg  \n",
       "104      561.114377        2.749051  negative  negative  cil_neg_inf_neg  \n",
       "105      569.903922        2.755802  negative  negative  cil_neg_inf_neg  "
      ]
     },
     "execution_count": 278,
     "metadata": {},
     "output_type": "execute_result"
    }
   ],
   "source": [
    "cells_df = ca.cells_df.drop(columns=[\"time\", \"date\", \"sample\", \"mode1\", \"mode2\", \"filename\", \"filepath\", \"projection_types\"])\n",
    "cells_df[100:105]"
   ]
  },
  {
   "cell_type": "code",
   "execution_count": 279,
   "id": "19c7eaea",
   "metadata": {},
   "outputs": [
    {
     "data": {
      "text/plain": [
       "inf\n",
       "negative    1334\n",
       "partial      173\n",
       "positive      27\n",
       "Name: count, dtype: int64"
      ]
     },
     "execution_count": 279,
     "metadata": {},
     "output_type": "execute_result"
    }
   ],
   "source": [
    "cells_df[\"inf\"].value_counts()"
   ]
  },
  {
   "cell_type": "code",
   "execution_count": 280,
   "id": "9328d5ba",
   "metadata": {},
   "outputs": [
    {
     "data": {
      "image/png": "[encoded data removed]",
      "text/plain": [
       "<Figure size 640x480 with 1 Axes>"
      ]
     },
     "metadata": {},
     "output_type": "display_data"
    }
   ],
   "source": [
    "ex_bins_mask = ca.bin_masks[\"inf\"][4]\n",
    "plt.imshow(ex_bins_mask)\n",
    "plt.axis(\"off\")\n",
    "plt.show()"
   ]
  },
  {
   "cell_type": "code",
   "execution_count": 281,
   "id": "117ed478",
   "metadata": {},
   "outputs": [],
   "source": [
    "virus_data = cells_df[cells_df[\"condition\"].str.contains(virus)]"
   ]
  },
  {
   "cell_type": "code",
   "execution_count": 282,
   "id": "66e47d36",
   "metadata": {},
   "outputs": [
    {
     "data": {
      "image/png": "[encoded data removed]",
      "text/plain": [
       "<Figure size 300x500 with 1 Axes>"
      ]
     },
     "metadata": {},
     "output_type": "display_data"
    }
   ],
   "source": [
    "fig, ax = plt.subplots(figsize=(3, 5), dpi=100)\n",
    "sns.scatterplot(data=virus_data, x='inf', y='cilia_'+signals_mode, palette=\"Set2\", hue=\"sample_id\", ax=ax)\n",
    "plt.show()"
   ]
  },
  {
   "cell_type": "code",
   "execution_count": 283,
   "id": "ae789f84",
   "metadata": {},
   "outputs": [
    {
     "data": {
      "image/png": "[encoded data removed]",
      "text/plain": [
       "<Figure size 1500x500 with 2 Axes>"
      ]
     },
     "metadata": {},
     "output_type": "display_data"
    }
   ],
   "source": [
    "fig, ax = plt.subplots(1,2, figsize=(15, 5), dpi=100)\n",
    "sns.boxplot(data=virus_data, x='inf', y='cilia_'+signals_mode, ax=ax[0])\n",
    "sns.boxplot(data=virus_data, x='inf', y='cilia_'+signals_mode, ax=ax[1], palette=\"Accent\", hue=\"donor\")\n",
    "plt.show()"
   ]
  },
  {
   "cell_type": "markdown",
   "id": "dbad8d74",
   "metadata": {},
   "source": [
    "### Cilia"
   ]
  },
  {
   "cell_type": "code",
   "execution_count": 284,
   "id": "2c7a8066",
   "metadata": {},
   "outputs": [
    {
     "name": "stdout",
     "output_type": "stream",
     "text": [
      "Using Otsu's method to find the threshold for cilia_mean_log10: 3.830079323048743\n"
     ]
    }
   ],
   "source": [
    "ca.bin_cell_signal(\"cilia\", thresh=None)"
   ]
  },
  {
   "cell_type": "code",
   "execution_count": 285,
   "id": "54c742b8",
   "metadata": {},
   "outputs": [
    {
     "data": {
      "text/html": [
       "<div>\n",
       "<style scoped>\n",
       "    .dataframe tbody tr th:only-of-type {\n",
       "        vertical-align: middle;\n",
       "    }\n",
       "\n",
       "    .dataframe tbody tr th {\n",
       "        vertical-align: top;\n",
       "    }\n",
       "\n",
       "    .dataframe thead th {\n",
       "        text-align: right;\n",
       "    }\n",
       "</style>\n",
       "<table border=\"1\" class=\"dataframe\">\n",
       "  <thead>\n",
       "    <tr style=\"text-align: right;\">\n",
       "      <th></th>\n",
       "      <th>condition</th>\n",
       "      <th>donor</th>\n",
       "      <th>replicate</th>\n",
       "      <th>sample_id</th>\n",
       "      <th>cilia_mean</th>\n",
       "      <th>cilia_mean_log10</th>\n",
       "      <th>inf_mean</th>\n",
       "      <th>inf_mean_log10</th>\n",
       "      <th>inf</th>\n",
       "      <th>cilia</th>\n",
       "      <th>cil_inf_pop</th>\n",
       "    </tr>\n",
       "    <tr>\n",
       "      <th>cell_id</th>\n",
       "      <th></th>\n",
       "      <th></th>\n",
       "      <th></th>\n",
       "      <th></th>\n",
       "      <th></th>\n",
       "      <th></th>\n",
       "      <th></th>\n",
       "      <th></th>\n",
       "      <th></th>\n",
       "      <th></th>\n",
       "      <th></th>\n",
       "    </tr>\n",
       "  </thead>\n",
       "  <tbody>\n",
       "    <tr>\n",
       "      <th>101</th>\n",
       "      <td>229E</td>\n",
       "      <td>BEC5</td>\n",
       "      <td>1</td>\n",
       "      <td>BEC5_1</td>\n",
       "      <td>6497.841971</td>\n",
       "      <td>3.812769</td>\n",
       "      <td>511.963466</td>\n",
       "      <td>2.709239</td>\n",
       "      <td>negative</td>\n",
       "      <td>negative</td>\n",
       "      <td>cil_neg_inf_neg</td>\n",
       "    </tr>\n",
       "    <tr>\n",
       "      <th>102</th>\n",
       "      <td>229E</td>\n",
       "      <td>BEC5</td>\n",
       "      <td>1</td>\n",
       "      <td>BEC5_1</td>\n",
       "      <td>9640.748302</td>\n",
       "      <td>3.984111</td>\n",
       "      <td>658.948159</td>\n",
       "      <td>2.818851</td>\n",
       "      <td>negative</td>\n",
       "      <td>positive</td>\n",
       "      <td>cil_pos_inf_neg</td>\n",
       "    </tr>\n",
       "    <tr>\n",
       "      <th>103</th>\n",
       "      <td>229E</td>\n",
       "      <td>BEC5</td>\n",
       "      <td>1</td>\n",
       "      <td>BEC5_1</td>\n",
       "      <td>8631.185060</td>\n",
       "      <td>3.936070</td>\n",
       "      <td>700.369745</td>\n",
       "      <td>2.845327</td>\n",
       "      <td>negative</td>\n",
       "      <td>positive</td>\n",
       "      <td>cil_pos_inf_neg</td>\n",
       "    </tr>\n",
       "    <tr>\n",
       "      <th>104</th>\n",
       "      <td>229E</td>\n",
       "      <td>BEC5</td>\n",
       "      <td>1</td>\n",
       "      <td>BEC5_1</td>\n",
       "      <td>5433.377873</td>\n",
       "      <td>3.735070</td>\n",
       "      <td>561.114377</td>\n",
       "      <td>2.749051</td>\n",
       "      <td>negative</td>\n",
       "      <td>negative</td>\n",
       "      <td>cil_neg_inf_neg</td>\n",
       "    </tr>\n",
       "    <tr>\n",
       "      <th>105</th>\n",
       "      <td>229E</td>\n",
       "      <td>BEC5</td>\n",
       "      <td>1</td>\n",
       "      <td>BEC5_1</td>\n",
       "      <td>6613.782108</td>\n",
       "      <td>3.820450</td>\n",
       "      <td>569.903922</td>\n",
       "      <td>2.755802</td>\n",
       "      <td>negative</td>\n",
       "      <td>negative</td>\n",
       "      <td>cil_neg_inf_neg</td>\n",
       "    </tr>\n",
       "  </tbody>\n",
       "</table>\n",
       "</div>"
      ],
      "text/plain": [
       "        condition donor  replicate sample_id   cilia_mean  cilia_mean_log10  \\\n",
       "cell_id                                                                       \n",
       "101          229E  BEC5          1    BEC5_1  6497.841971          3.812769   \n",
       "102          229E  BEC5          1    BEC5_1  9640.748302          3.984111   \n",
       "103          229E  BEC5          1    BEC5_1  8631.185060          3.936070   \n",
       "104          229E  BEC5          1    BEC5_1  5433.377873          3.735070   \n",
       "105          229E  BEC5          1    BEC5_1  6613.782108          3.820450   \n",
       "\n",
       "           inf_mean  inf_mean_log10       inf     cilia      cil_inf_pop  \n",
       "cell_id                                                                   \n",
       "101      511.963466        2.709239  negative  negative  cil_neg_inf_neg  \n",
       "102      658.948159        2.818851  negative  positive  cil_pos_inf_neg  \n",
       "103      700.369745        2.845327  negative  positive  cil_pos_inf_neg  \n",
       "104      561.114377        2.749051  negative  negative  cil_neg_inf_neg  \n",
       "105      569.903922        2.755802  negative  negative  cil_neg_inf_neg  "
      ]
     },
     "execution_count": 285,
     "metadata": {},
     "output_type": "execute_result"
    }
   ],
   "source": [
    "cells_df = ca.cells_df.drop(columns=[\"time\", \"date\", \"sample\", \"mode1\", \"mode2\", \"filename\", \"filepath\", \"projection_types\"])\n",
    "cells_df[100:105]"
   ]
  },
  {
   "cell_type": "code",
   "execution_count": 286,
   "id": "32752505",
   "metadata": {},
   "outputs": [
    {
     "data": {
      "text/plain": [
       "cilia\n",
       "positive    790\n",
       "negative    744\n",
       "Name: count, dtype: int64"
      ]
     },
     "execution_count": 286,
     "metadata": {},
     "output_type": "execute_result"
    }
   ],
   "source": [
    "cells_df[\"cilia\"].value_counts()"
   ]
  },
  {
   "cell_type": "code",
   "execution_count": 287,
   "id": "79057e5d",
   "metadata": {},
   "outputs": [
    {
     "data": {
      "image/png": "[encoded data removed]",
      "text/plain": [
       "<Figure size 640x480 with 1 Axes>"
      ]
     },
     "metadata": {},
     "output_type": "display_data"
    }
   ],
   "source": [
    "ex_bins_mask = ca.bin_masks[\"cilia\"][1]\n",
    "plt.imshow(ex_bins_mask)\n",
    "plt.axis(\"off\")\n",
    "plt.show()"
   ]
  },
  {
   "cell_type": "code",
   "execution_count": 288,
   "id": "4893ec6a",
   "metadata": {},
   "outputs": [],
   "source": [
    "virus_data = cells_df[cells_df[\"condition\"].str.contains(virus)]"
   ]
  },
  {
   "cell_type": "code",
   "execution_count": 289,
   "id": "731edf5f",
   "metadata": {},
   "outputs": [
    {
     "data": {
      "image/png": "[encoded data removed]",
      "text/plain": [
       "<Figure size 300x500 with 1 Axes>"
      ]
     },
     "metadata": {},
     "output_type": "display_data"
    }
   ],
   "source": [
    "fig, ax = plt.subplots(figsize=(3, 5), dpi=100)\n",
    "sns.scatterplot(data=virus_data, x='cilia', y='inf_'+signals_mode, palette=\"Set2\", hue=\"sample_id\", ax=ax)\n",
    "plt.show()"
   ]
  },
  {
   "cell_type": "code",
   "execution_count": 290,
   "id": "8445533b",
   "metadata": {},
   "outputs": [
    {
     "data": {
      "image/png": "[encoded data removed]",
      "text/plain": [
       "<Figure size 1500x500 with 2 Axes>"
      ]
     },
     "metadata": {},
     "output_type": "display_data"
    }
   ],
   "source": [
    "fig, ax = plt.subplots(1,2, figsize=(15, 5), dpi=100)\n",
    "sns.boxplot(data=virus_data, x='cilia', y='inf_'+signals_mode, ax=ax[0])\n",
    "sns.boxplot(data=virus_data, x='cilia', y='inf_'+signals_mode, ax=ax[1], palette=\"Accent\", hue=\"donor\")\n",
    "plt.show()"
   ]
  },
  {
   "cell_type": "markdown",
   "id": "2ebd6c1a",
   "metadata": {},
   "source": [
    "### Save the data"
   ]
  },
  {
   "cell_type": "code",
   "execution_count": 291,
   "id": "605cd399",
   "metadata": {},
   "outputs": [],
   "source": [
    "# ca.save(overwrite=True)"
   ]
  },
  {
   "cell_type": "markdown",
   "id": "0c22c036",
   "metadata": {},
   "source": [
    "## Extract the populations (bin combinations)"
   ]
  },
  {
   "cell_type": "code",
   "execution_count": 292,
   "id": "acde411a",
   "metadata": {},
   "outputs": [],
   "source": [
    "cells_df = ca.create_populations(\"cilia\", \"inf\")"
   ]
  },
  {
   "cell_type": "code",
   "execution_count": 293,
   "id": "85b91177",
   "metadata": {},
   "outputs": [
    {
     "data": {
      "text/html": [
       "<div>\n",
       "<style scoped>\n",
       "    .dataframe tbody tr th:only-of-type {\n",
       "        vertical-align: middle;\n",
       "    }\n",
       "\n",
       "    .dataframe tbody tr th {\n",
       "        vertical-align: top;\n",
       "    }\n",
       "\n",
       "    .dataframe thead th {\n",
       "        text-align: right;\n",
       "    }\n",
       "</style>\n",
       "<table border=\"1\" class=\"dataframe\">\n",
       "  <thead>\n",
       "    <tr style=\"text-align: right;\">\n",
       "      <th></th>\n",
       "      <th>condition</th>\n",
       "      <th>donor</th>\n",
       "      <th>replicate</th>\n",
       "      <th>sample_id</th>\n",
       "      <th>cilia_mean</th>\n",
       "      <th>cilia_mean_log10</th>\n",
       "      <th>inf_mean</th>\n",
       "      <th>inf_mean_log10</th>\n",
       "      <th>inf</th>\n",
       "      <th>cilia</th>\n",
       "      <th>cil_inf_pop</th>\n",
       "    </tr>\n",
       "    <tr>\n",
       "      <th>cell_id</th>\n",
       "      <th></th>\n",
       "      <th></th>\n",
       "      <th></th>\n",
       "      <th></th>\n",
       "      <th></th>\n",
       "      <th></th>\n",
       "      <th></th>\n",
       "      <th></th>\n",
       "      <th></th>\n",
       "      <th></th>\n",
       "      <th></th>\n",
       "    </tr>\n",
       "  </thead>\n",
       "  <tbody>\n",
       "    <tr>\n",
       "      <th>101</th>\n",
       "      <td>229E</td>\n",
       "      <td>BEC5</td>\n",
       "      <td>1</td>\n",
       "      <td>BEC5_1</td>\n",
       "      <td>6497.841971</td>\n",
       "      <td>3.812769</td>\n",
       "      <td>511.963466</td>\n",
       "      <td>2.709239</td>\n",
       "      <td>negative</td>\n",
       "      <td>negative</td>\n",
       "      <td>cil_neg_inf_neg</td>\n",
       "    </tr>\n",
       "    <tr>\n",
       "      <th>102</th>\n",
       "      <td>229E</td>\n",
       "      <td>BEC5</td>\n",
       "      <td>1</td>\n",
       "      <td>BEC5_1</td>\n",
       "      <td>9640.748302</td>\n",
       "      <td>3.984111</td>\n",
       "      <td>658.948159</td>\n",
       "      <td>2.818851</td>\n",
       "      <td>negative</td>\n",
       "      <td>positive</td>\n",
       "      <td>cil_pos_inf_neg</td>\n",
       "    </tr>\n",
       "    <tr>\n",
       "      <th>103</th>\n",
       "      <td>229E</td>\n",
       "      <td>BEC5</td>\n",
       "      <td>1</td>\n",
       "      <td>BEC5_1</td>\n",
       "      <td>8631.185060</td>\n",
       "      <td>3.936070</td>\n",
       "      <td>700.369745</td>\n",
       "      <td>2.845327</td>\n",
       "      <td>negative</td>\n",
       "      <td>positive</td>\n",
       "      <td>cil_pos_inf_neg</td>\n",
       "    </tr>\n",
       "    <tr>\n",
       "      <th>104</th>\n",
       "      <td>229E</td>\n",
       "      <td>BEC5</td>\n",
       "      <td>1</td>\n",
       "      <td>BEC5_1</td>\n",
       "      <td>5433.377873</td>\n",
       "      <td>3.735070</td>\n",
       "      <td>561.114377</td>\n",
       "      <td>2.749051</td>\n",
       "      <td>negative</td>\n",
       "      <td>negative</td>\n",
       "      <td>cil_neg_inf_neg</td>\n",
       "    </tr>\n",
       "    <tr>\n",
       "      <th>105</th>\n",
       "      <td>229E</td>\n",
       "      <td>BEC5</td>\n",
       "      <td>1</td>\n",
       "      <td>BEC5_1</td>\n",
       "      <td>6613.782108</td>\n",
       "      <td>3.820450</td>\n",
       "      <td>569.903922</td>\n",
       "      <td>2.755802</td>\n",
       "      <td>negative</td>\n",
       "      <td>negative</td>\n",
       "      <td>cil_neg_inf_neg</td>\n",
       "    </tr>\n",
       "  </tbody>\n",
       "</table>\n",
       "</div>"
      ],
      "text/plain": [
       "        condition donor  replicate sample_id   cilia_mean  cilia_mean_log10  \\\n",
       "cell_id                                                                       \n",
       "101          229E  BEC5          1    BEC5_1  6497.841971          3.812769   \n",
       "102          229E  BEC5          1    BEC5_1  9640.748302          3.984111   \n",
       "103          229E  BEC5          1    BEC5_1  8631.185060          3.936070   \n",
       "104          229E  BEC5          1    BEC5_1  5433.377873          3.735070   \n",
       "105          229E  BEC5          1    BEC5_1  6613.782108          3.820450   \n",
       "\n",
       "           inf_mean  inf_mean_log10       inf     cilia      cil_inf_pop  \n",
       "cell_id                                                                   \n",
       "101      511.963466        2.709239  negative  negative  cil_neg_inf_neg  \n",
       "102      658.948159        2.818851  negative  positive  cil_pos_inf_neg  \n",
       "103      700.369745        2.845327  negative  positive  cil_pos_inf_neg  \n",
       "104      561.114377        2.749051  negative  negative  cil_neg_inf_neg  \n",
       "105      569.903922        2.755802  negative  negative  cil_neg_inf_neg  "
      ]
     },
     "execution_count": 293,
     "metadata": {},
     "output_type": "execute_result"
    }
   ],
   "source": [
    "cells_df = ca.cells_df.drop(columns=[\"time\", \"date\", \"sample\", \"mode1\", \"mode2\", \"filename\", \"filepath\", \"projection_types\"])\n",
    "cells_df[100:105]"
   ]
  },
  {
   "cell_type": "code",
   "execution_count": 294,
   "id": "c854d880",
   "metadata": {},
   "outputs": [
    {
     "data": {
      "text/plain": [
       "cil_inf_pop\n",
       "cil_pos_inf_neg    681\n",
       "cil_neg_inf_neg    653\n",
       "cil_pos_inf_par    100\n",
       "cil_neg_inf_par     73\n",
       "cil_neg_inf_pos     18\n",
       "cil_pos_inf_pos      9\n",
       "Name: count, dtype: int64"
      ]
     },
     "execution_count": 294,
     "metadata": {},
     "output_type": "execute_result"
    }
   ],
   "source": [
    "cells_df[\"cil_inf_pop\"].value_counts()"
   ]
  },
  {
   "cell_type": "markdown",
   "id": "7153a527",
   "metadata": {},
   "source": [
    "Save population images just for visualization purposes."
   ]
  },
  {
   "cell_type": "code",
   "execution_count": 295,
   "id": "fcff1af1",
   "metadata": {},
   "outputs": [],
   "source": [
    "# ca.save_population_imgs(\"cilia\", \"inf\", outline_channel=\"white\", overwrite=True)"
   ]
  },
  {
   "cell_type": "markdown",
   "id": "185b02ce",
   "metadata": {},
   "source": [
    "Save the data."
   ]
  },
  {
   "cell_type": "code",
   "execution_count": 296,
   "id": "b2e1eb03",
   "metadata": {},
   "outputs": [],
   "source": [
    "# ca.save(overwrite=True)"
   ]
  },
  {
   "cell_type": "markdown",
   "id": "1649fd1e",
   "metadata": {},
   "source": [
    "## Visualize the results"
   ]
  },
  {
   "cell_type": "code",
   "execution_count": 297,
   "id": "3eca33c7",
   "metadata": {},
   "outputs": [
    {
     "data": {
      "text/html": [
       "<div>\n",
       "<style scoped>\n",
       "    .dataframe tbody tr th:only-of-type {\n",
       "        vertical-align: middle;\n",
       "    }\n",
       "\n",
       "    .dataframe tbody tr th {\n",
       "        vertical-align: top;\n",
       "    }\n",
       "\n",
       "    .dataframe thead th {\n",
       "        text-align: right;\n",
       "    }\n",
       "</style>\n",
       "<table border=\"1\" class=\"dataframe\">\n",
       "  <thead>\n",
       "    <tr style=\"text-align: right;\">\n",
       "      <th></th>\n",
       "      <th>condition</th>\n",
       "      <th>cilia</th>\n",
       "      <th>inf</th>\n",
       "      <th>count</th>\n",
       "    </tr>\n",
       "  </thead>\n",
       "  <tbody>\n",
       "    <tr>\n",
       "      <th>0</th>\n",
       "      <td>229E</td>\n",
       "      <td>negative</td>\n",
       "      <td>negative</td>\n",
       "      <td>308</td>\n",
       "    </tr>\n",
       "    <tr>\n",
       "      <th>1</th>\n",
       "      <td>229E</td>\n",
       "      <td>negative</td>\n",
       "      <td>partial</td>\n",
       "      <td>8</td>\n",
       "    </tr>\n",
       "    <tr>\n",
       "      <th>2</th>\n",
       "      <td>229E</td>\n",
       "      <td>negative</td>\n",
       "      <td>positive</td>\n",
       "      <td>18</td>\n",
       "    </tr>\n",
       "    <tr>\n",
       "      <th>3</th>\n",
       "      <td>229E</td>\n",
       "      <td>positive</td>\n",
       "      <td>negative</td>\n",
       "      <td>159</td>\n",
       "    </tr>\n",
       "    <tr>\n",
       "      <th>4</th>\n",
       "      <td>229E</td>\n",
       "      <td>positive</td>\n",
       "      <td>partial</td>\n",
       "      <td>3</td>\n",
       "    </tr>\n",
       "    <tr>\n",
       "      <th>5</th>\n",
       "      <td>229E</td>\n",
       "      <td>positive</td>\n",
       "      <td>positive</td>\n",
       "      <td>6</td>\n",
       "    </tr>\n",
       "    <tr>\n",
       "      <th>6</th>\n",
       "      <td>33mock</td>\n",
       "      <td>negative</td>\n",
       "      <td>negative</td>\n",
       "      <td>345</td>\n",
       "    </tr>\n",
       "    <tr>\n",
       "      <th>7</th>\n",
       "      <td>33mock</td>\n",
       "      <td>negative</td>\n",
       "      <td>partial</td>\n",
       "      <td>65</td>\n",
       "    </tr>\n",
       "    <tr>\n",
       "      <th>8</th>\n",
       "      <td>33mock</td>\n",
       "      <td>positive</td>\n",
       "      <td>negative</td>\n",
       "      <td>522</td>\n",
       "    </tr>\n",
       "    <tr>\n",
       "      <th>9</th>\n",
       "      <td>33mock</td>\n",
       "      <td>positive</td>\n",
       "      <td>partial</td>\n",
       "      <td>97</td>\n",
       "    </tr>\n",
       "    <tr>\n",
       "      <th>10</th>\n",
       "      <td>33mock</td>\n",
       "      <td>positive</td>\n",
       "      <td>positive</td>\n",
       "      <td>3</td>\n",
       "    </tr>\n",
       "  </tbody>\n",
       "</table>\n",
       "</div>"
      ],
      "text/plain": [
       "   condition     cilia       inf  count\n",
       "0       229E  negative  negative    308\n",
       "1       229E  negative   partial      8\n",
       "2       229E  negative  positive     18\n",
       "3       229E  positive  negative    159\n",
       "4       229E  positive   partial      3\n",
       "5       229E  positive  positive      6\n",
       "6     33mock  negative  negative    345\n",
       "7     33mock  negative   partial     65\n",
       "8     33mock  positive  negative    522\n",
       "9     33mock  positive   partial     97\n",
       "10    33mock  positive  positive      3"
      ]
     },
     "execution_count": 297,
     "metadata": {},
     "output_type": "execute_result"
    }
   ],
   "source": [
    "cells_df = ca.cells_df.drop(columns=[\"time\", \"date\", \"sample\", \"mode1\", \"mode2\", \"filename\", \"filepath\", \"projection_types\"])\n",
    "cells_df.groupby([\"condition\", \"cilia\", \"inf\"]).size().reset_index(name='count')"
   ]
  },
  {
   "cell_type": "code",
   "execution_count": 298,
   "id": "6ee72ec8",
   "metadata": {},
   "outputs": [],
   "source": [
    "filter = cells_df[\"condition\"].str.contains(virus) & ~cells_df[\"inf\"].str.contains(\"partial\")\n",
    "virus_data = cells_df[filter]"
   ]
  },
  {
   "cell_type": "code",
   "execution_count": 299,
   "id": "64361633",
   "metadata": {},
   "outputs": [
    {
     "data": {
      "text/html": [
       "<div>\n",
       "<style scoped>\n",
       "    .dataframe tbody tr th:only-of-type {\n",
       "        vertical-align: middle;\n",
       "    }\n",
       "\n",
       "    .dataframe tbody tr th {\n",
       "        vertical-align: top;\n",
       "    }\n",
       "\n",
       "    .dataframe thead th {\n",
       "        text-align: right;\n",
       "    }\n",
       "</style>\n",
       "<table border=\"1\" class=\"dataframe\">\n",
       "  <thead>\n",
       "    <tr style=\"text-align: right;\">\n",
       "      <th>inf</th>\n",
       "      <th>negative</th>\n",
       "      <th>positive</th>\n",
       "    </tr>\n",
       "    <tr>\n",
       "      <th>cilia</th>\n",
       "      <th></th>\n",
       "      <th></th>\n",
       "    </tr>\n",
       "  </thead>\n",
       "  <tbody>\n",
       "    <tr>\n",
       "      <th>positive</th>\n",
       "      <td>159</td>\n",
       "      <td>6</td>\n",
       "    </tr>\n",
       "    <tr>\n",
       "      <th>negative</th>\n",
       "      <td>308</td>\n",
       "      <td>18</td>\n",
       "    </tr>\n",
       "  </tbody>\n",
       "</table>\n",
       "</div>"
      ],
      "text/plain": [
       "inf       negative  positive\n",
       "cilia                       \n",
       "positive       159         6\n",
       "negative       308        18"
      ]
     },
     "metadata": {},
     "output_type": "display_data"
    }
   ],
   "source": [
    "matrix = virus_data.pivot_table(index=\"cilia\", columns=\"inf\", values=\"sample_id\", aggfunc=\"count\")#.plot(kind=\"bar\", stacked=True, figsize=(10, 5), rot=0)\n",
    "matrix = matrix.reindex(columns=[\"negative\", \"positive\"], index=[\"positive\", \"negative\"]).fillna(0).astype(int)\n",
    "# matrix = matrix.reindex(columns=[\"negative\", \"partial\", \"positive\"], index=[\"positive\", \"negative\"])\n",
    "display(matrix)"
   ]
  },
  {
   "cell_type": "code",
   "execution_count": 300,
   "id": "022c16bf",
   "metadata": {},
   "outputs": [
    {
     "data": {
      "image/png": "[encoded data removed]",
      "text/plain": [
       "<Figure size 640x480 with 1 Axes>"
      ]
     },
     "metadata": {},
     "output_type": "display_data"
    }
   ],
   "source": [
    "sns.heatmap(matrix, annot=True, fmt=\"d\", cmap=\"Blues\", cbar=False)\n",
    "plt.title(f\"{virus} infection vs. cilia presence\")\n",
    "plt.xlabel(\"Infection\")\n",
    "plt.ylabel(\"Cilia\")\n",
    "plt.xticks(rotation=35)\n",
    "plt.show()"
   ]
  },
  {
   "cell_type": "code",
   "execution_count": 301,
   "id": "80d48e72",
   "metadata": {},
   "outputs": [
    {
     "data": {
      "text/plain": [
       "inf\n",
       "negative    0.340471\n",
       "positive    0.250000\n",
       "Name: positive, dtype: float64"
      ]
     },
     "metadata": {},
     "output_type": "display_data"
    },
    {
     "data": {
      "image/png": "[encoded data removed]",
      "text/plain": [
       "<Figure size 640x480 with 1 Axes>"
      ]
     },
     "metadata": {},
     "output_type": "display_data"
    }
   ],
   "source": [
    "matrix_rel = matrix.div(matrix.sum(axis=0), axis=1)\n",
    "# Show barplot with only the relative ciliated cells\n",
    "rel_pos = matrix_rel.loc[\"positive\"]\n",
    "display(rel_pos)\n",
    "sns.barplot(x=rel_pos.index, y=rel_pos.values, hue=rel_pos.index, palette=\"Greens\")\n",
    "plt.title(f\"Relative ciliated cells in {virus} infection\")\n",
    "plt.xlabel(\"Infection\")\n",
    "plt.ylabel(\"Relative ciliated cells\")\n",
    "plt.xticks(rotation=35)\n",
    "plt.show()"
   ]
  }
 ],
 "metadata": {
  "kernelspec": {
   "display_name": "ivi-env",
   "language": "python",
   "name": "python3"
  },
  "language_info": {
   "codemirror_mode": {
    "name": "ipython",
    "version": 3
   },
   "file_extension": ".py",
   "mimetype": "text/x-python",
   "name": "python",
   "nbconvert_exporter": "python",
   "pygments_lexer": "ipython3",
   "version": "3.11.11"
  }
 },
 "nbformat": 4,
 "nbformat_minor": 5
}
