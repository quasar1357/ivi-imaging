{
 "cells": [
  {
   "cell_type": "markdown",
   "id": "3a5c0eba",
   "metadata": {},
   "source": [
    "## Imports"
   ]
  },
  {
   "cell_type": "code",
   "execution_count": 1,
   "id": "f7452b6f",
   "metadata": {},
   "outputs": [
    {
     "name": "stderr",
     "output_type": "stream",
     "text": [
      "06-Jun-25 06:13:49 - bfio.backends - WARNING  - Java backend is not available. This could be due to a missing dependency (jpype).\n"
     ]
    }
   ],
   "source": [
    "%load_ext autoreload\n",
    "%autoreload 2\n",
    "\n",
    "import os\n",
    "import sys\n",
    "# from napari_convpaint.conv_paint_utils import *\n",
    "# from napari_convpaint.conv_paint_model import *\n",
    "# from napari_convpaint.conv_paint_param import Param\n",
    "from PIL import Image\n",
    "import numpy as np\n",
    "from matplotlib import pyplot as plt\n",
    "import napari\n",
    "from skimage import morphology\n",
    "import seaborn as sns\n",
    "import pandas as pd\n",
    "from aicsimageio import AICSImage\n",
    "\n",
    "from CellAnalyzer import CellAnalyzer"
   ]
  },
  {
   "cell_type": "markdown",
   "id": "96729a33",
   "metadata": {},
   "source": [
    "## Data loading and inspection"
   ]
  },
  {
   "cell_type": "markdown",
   "id": "c582a2aa",
   "metadata": {},
   "source": [
    "Create an object with the path to the data."
   ]
  },
  {
   "cell_type": "code",
   "execution_count": 44,
   "id": "7a927c05",
   "metadata": {},
   "outputs": [
    {
     "name": "stdout",
     "output_type": "stream",
     "text": [
      ">>> GPU activated? NO\n"
     ]
    }
   ],
   "source": [
    "in_path = \"../imaging_data/21122022_images_jinglecells_SO_AK/MERS\"\n",
    "ca = CellAnalyzer(in_path)"
   ]
  },
  {
   "cell_type": "markdown",
   "id": "0bdb78d2",
   "metadata": {},
   "source": [
    "Display the data table."
   ]
  },
  {
   "cell_type": "code",
   "execution_count": null,
   "id": "ec5b02e7",
   "metadata": {},
   "outputs": [
    {
     "data": {
      "text/html": [
       "<div>\n",
       "<style scoped>\n",
       "    .dataframe tbody tr th:only-of-type {\n",
       "        vertical-align: middle;\n",
       "    }\n",
       "\n",
       "    .dataframe tbody tr th {\n",
       "        vertical-align: top;\n",
       "    }\n",
       "\n",
       "    .dataframe thead th {\n",
       "        text-align: right;\n",
       "    }\n",
       "</style>\n",
       "<table border=\"1\" class=\"dataframe\">\n",
       "  <thead>\n",
       "    <tr style=\"text-align: right;\">\n",
       "      <th></th>\n",
       "      <th>condition</th>\n",
       "      <th>donor</th>\n",
       "      <th>time</th>\n",
       "      <th>date</th>\n",
       "      <th>sample</th>\n",
       "      <th>replicate</th>\n",
       "      <th>sample_id</th>\n",
       "      <th>mode1</th>\n",
       "      <th>mode2</th>\n",
       "      <th>filename</th>\n",
       "      <th>filepath</th>\n",
       "      <th>projection_types</th>\n",
       "    </tr>\n",
       "  </thead>\n",
       "  <tbody>\n",
       "    <tr>\n",
       "      <th>0</th>\n",
       "      <td>37mock</td>\n",
       "      <td>BEC5</td>\n",
       "      <td>48h</td>\n",
       "      <td>2021-12-22</td>\n",
       "      <td>00</td>\n",
       "      <td>1</td>\n",
       "      <td>BEC5_1</td>\n",
       "      <td>R3D</td>\n",
       "      <td>D3D</td>\n",
       "      <td>37mock_BEC5_48h_21.12.22_R3D_D3D.dv</td>\n",
       "      <td>C:\\Users\\roman\\Documents\\Vetsuisse\\imaging_dat...</td>\n",
       "      <td>[max, max, max, max]</td>\n",
       "    </tr>\n",
       "    <tr>\n",
       "      <th>1</th>\n",
       "      <td>37mock</td>\n",
       "      <td>BEC5</td>\n",
       "      <td>48h</td>\n",
       "      <td>2021-12-22</td>\n",
       "      <td>01</td>\n",
       "      <td>2</td>\n",
       "      <td>BEC5_2</td>\n",
       "      <td>R3D</td>\n",
       "      <td>D3D</td>\n",
       "      <td>37mock_BEC5_48h_21.12.22.01_R3D_D3D.dv</td>\n",
       "      <td>C:\\Users\\roman\\Documents\\Vetsuisse\\imaging_dat...</td>\n",
       "      <td>[max, max, max, max]</td>\n",
       "    </tr>\n",
       "    <tr>\n",
       "      <th>2</th>\n",
       "      <td>37mock</td>\n",
       "      <td>BEC5</td>\n",
       "      <td>48h</td>\n",
       "      <td>2021-12-22</td>\n",
       "      <td>03</td>\n",
       "      <td>3</td>\n",
       "      <td>BEC5_3</td>\n",
       "      <td>R3D</td>\n",
       "      <td>D3D</td>\n",
       "      <td>37mock_BEC5_48h_21.12.22.03_R3D_D3D.dv</td>\n",
       "      <td>C:\\Users\\roman\\Documents\\Vetsuisse\\imaging_dat...</td>\n",
       "      <td>[max, max, max, max]</td>\n",
       "    </tr>\n",
       "    <tr>\n",
       "      <th>3</th>\n",
       "      <td>37mock</td>\n",
       "      <td>BEC6</td>\n",
       "      <td>48h</td>\n",
       "      <td>2021-12-22</td>\n",
       "      <td>00</td>\n",
       "      <td>1</td>\n",
       "      <td>BEC6_1</td>\n",
       "      <td>R3D</td>\n",
       "      <td>D3D</td>\n",
       "      <td>37mock_BEC6_48h_21.12.22_R3D_D3D.dv</td>\n",
       "      <td>C:\\Users\\roman\\Documents\\Vetsuisse\\imaging_dat...</td>\n",
       "      <td>[max, max, max, max]</td>\n",
       "    </tr>\n",
       "    <tr>\n",
       "      <th>4</th>\n",
       "      <td>MERS</td>\n",
       "      <td>BEC5</td>\n",
       "      <td>48h</td>\n",
       "      <td>2021-12-22</td>\n",
       "      <td>00</td>\n",
       "      <td>1</td>\n",
       "      <td>BEC5_1</td>\n",
       "      <td>R3D</td>\n",
       "      <td>D3D</td>\n",
       "      <td>MERS_BEC5_48h_21.12.22_R3D_D3D.dv</td>\n",
       "      <td>C:\\Users\\roman\\Documents\\Vetsuisse\\imaging_dat...</td>\n",
       "      <td>[max, max, max, max]</td>\n",
       "    </tr>\n",
       "    <tr>\n",
       "      <th>5</th>\n",
       "      <td>MERS</td>\n",
       "      <td>BEC5</td>\n",
       "      <td>48h</td>\n",
       "      <td>2021-12-23</td>\n",
       "      <td>00</td>\n",
       "      <td>2</td>\n",
       "      <td>BEC5_2</td>\n",
       "      <td>R3D</td>\n",
       "      <td>D3D</td>\n",
       "      <td>MERS_BEC5_48h_21.12.23_R3D_D3D.dv</td>\n",
       "      <td>C:\\Users\\roman\\Documents\\Vetsuisse\\imaging_dat...</td>\n",
       "      <td>[max, max, max, max]</td>\n",
       "    </tr>\n",
       "    <tr>\n",
       "      <th>6</th>\n",
       "      <td>MERS</td>\n",
       "      <td>BEC6</td>\n",
       "      <td>48h</td>\n",
       "      <td>2021-12-22</td>\n",
       "      <td>01</td>\n",
       "      <td>1</td>\n",
       "      <td>BEC6_1</td>\n",
       "      <td>R3D</td>\n",
       "      <td>D3D</td>\n",
       "      <td>MERS_BEC6_48h_21.12.22.01_R3D_D3D.dv</td>\n",
       "      <td>C:\\Users\\roman\\Documents\\Vetsuisse\\imaging_dat...</td>\n",
       "      <td>[max, max, max, max]</td>\n",
       "    </tr>\n",
       "  </tbody>\n",
       "</table>\n",
       "</div>"
      ],
      "text/plain": [
       "  condition donor time       date sample  replicate sample_id mode1 mode2  \\\n",
       "0    37mock  BEC5  48h 2021-12-22     00          1    BEC5_1   R3D   D3D   \n",
       "1    37mock  BEC5  48h 2021-12-22     01          2    BEC5_2   R3D   D3D   \n",
       "2    37mock  BEC5  48h 2021-12-22     03          3    BEC5_3   R3D   D3D   \n",
       "3    37mock  BEC6  48h 2021-12-22     00          1    BEC6_1   R3D   D3D   \n",
       "4      MERS  BEC5  48h 2021-12-22     00          1    BEC5_1   R3D   D3D   \n",
       "5      MERS  BEC5  48h 2021-12-23     00          2    BEC5_2   R3D   D3D   \n",
       "6      MERS  BEC6  48h 2021-12-22     01          1    BEC6_1   R3D   D3D   \n",
       "\n",
       "                                 filename  \\\n",
       "0     37mock_BEC5_48h_21.12.22_R3D_D3D.dv   \n",
       "1  37mock_BEC5_48h_21.12.22.01_R3D_D3D.dv   \n",
       "2  37mock_BEC5_48h_21.12.22.03_R3D_D3D.dv   \n",
       "3     37mock_BEC6_48h_21.12.22_R3D_D3D.dv   \n",
       "4       MERS_BEC5_48h_21.12.22_R3D_D3D.dv   \n",
       "5       MERS_BEC5_48h_21.12.23_R3D_D3D.dv   \n",
       "6    MERS_BEC6_48h_21.12.22.01_R3D_D3D.dv   \n",
       "\n",
       "                                            filepath      projection_types  \n",
       "0  C:\\Users\\roman\\Documents\\Vetsuisse\\imaging_dat...  [max, max, max, max]  \n",
       "1  C:\\Users\\roman\\Documents\\Vetsuisse\\imaging_dat...  [max, max, max, max]  \n",
       "2  C:\\Users\\roman\\Documents\\Vetsuisse\\imaging_dat...  [max, max, max, max]  \n",
       "3  C:\\Users\\roman\\Documents\\Vetsuisse\\imaging_dat...  [max, max, max, max]  \n",
       "4  C:\\Users\\roman\\Documents\\Vetsuisse\\imaging_dat...  [max, max, max, max]  \n",
       "5  C:\\Users\\roman\\Documents\\Vetsuisse\\imaging_dat...  [max, max, max, max]  \n",
       "6  C:\\Users\\roman\\Documents\\Vetsuisse\\imaging_dat...  [max, max, max, max]  "
      ]
     },
     "metadata": {},
     "output_type": "display_data"
    }
   ],
   "source": [
    "df, imgs = ca.read_data()\n",
    "display(df)"
   ]
  },
  {
   "cell_type": "markdown",
   "id": "fb389b0f",
   "metadata": {},
   "source": [
    "Check dimensions."
   ]
  },
  {
   "cell_type": "code",
   "execution_count": 117,
   "id": "ebaf7031",
   "metadata": {},
   "outputs": [
    {
     "data": {
      "text/plain": [
       "(4, 68, 960, 960)"
      ]
     },
     "execution_count": 117,
     "metadata": {},
     "output_type": "execute_result"
    }
   ],
   "source": [
    "imgs[0].shape"
   ]
  },
  {
   "cell_type": "markdown",
   "id": "c1490365",
   "metadata": {},
   "source": [
    "Create projections."
   ]
  },
  {
   "cell_type": "code",
   "execution_count": 118,
   "id": "ff1058dd",
   "metadata": {},
   "outputs": [],
   "source": [
    "projections = ca.create_projections(types=[\"max\", \"max\", \"max\", \"max\"]) # Projection options: max, min, mean, median"
   ]
  },
  {
   "cell_type": "code",
   "execution_count": 119,
   "id": "1273b2a4",
   "metadata": {},
   "outputs": [
    {
     "name": "stdout",
     "output_type": "stream",
     "text": [
      "(4, 960, 960)\n",
      "['max', 'max', 'max', 'max']\n"
     ]
    }
   ],
   "source": [
    "print(ca.projections[0].shape)\n",
    "print(ca.projections_types)"
   ]
  },
  {
   "cell_type": "markdown",
   "id": "4edd7d97",
   "metadata": {},
   "source": [
    "## Segmentation"
   ]
  },
  {
   "cell_type": "code",
   "execution_count": 120,
   "id": "9c4630a0",
   "metadata": {},
   "outputs": [],
   "source": [
    "masks, flows, styles, imgs_dn, outlines = ca.segment(channels=[3,1]) # Channels for: Cytoplasm, Nucleus"
   ]
  },
  {
   "cell_type": "code",
   "execution_count": null,
   "id": "c97908df",
   "metadata": {},
   "outputs": [],
   "source": [
    "# ca.save(overwrite=True)"
   ]
  },
  {
   "cell_type": "markdown",
   "id": "d77ad5c4",
   "metadata": {},
   "source": [
    "Instead of doing the steps above over and over again, we can load a saved state"
   ]
  },
  {
   "cell_type": "code",
   "execution_count": null,
   "id": "8c083081",
   "metadata": {},
   "outputs": [
    {
     "name": "stdout",
     "output_type": "stream",
     "text": [
      ">>> GPU activated? NO\n",
      ">>> GPU activated? NO\n"
     ]
    }
   ],
   "source": [
    "# ca = CellAnalyzer.load(in_path + \"/CellAnalyzer/CellAnalyzer.pkl\")"
   ]
  },
  {
   "cell_type": "markdown",
   "id": "af6b278a",
   "metadata": {},
   "source": [
    "Check to make sure the data was loaded correctly (hiding the irrelevant columns); after segmentation, the table now includes information about the IDs of the cells in each sample"
   ]
  },
  {
   "cell_type": "code",
   "execution_count": 59,
   "id": "98ac2694",
   "metadata": {},
   "outputs": [
    {
     "data": {
      "text/html": [
       "<div>\n",
       "<style scoped>\n",
       "    .dataframe tbody tr th:only-of-type {\n",
       "        vertical-align: middle;\n",
       "    }\n",
       "\n",
       "    .dataframe tbody tr th {\n",
       "        vertical-align: top;\n",
       "    }\n",
       "\n",
       "    .dataframe thead th {\n",
       "        text-align: right;\n",
       "    }\n",
       "</style>\n",
       "<table border=\"1\" class=\"dataframe\">\n",
       "  <thead>\n",
       "    <tr style=\"text-align: right;\">\n",
       "      <th></th>\n",
       "      <th>condition</th>\n",
       "      <th>donor</th>\n",
       "      <th>replicate</th>\n",
       "      <th>sample_id</th>\n",
       "      <th>num_cells</th>\n",
       "      <th>cell_id_min</th>\n",
       "      <th>cell_id_max</th>\n",
       "    </tr>\n",
       "  </thead>\n",
       "  <tbody>\n",
       "    <tr>\n",
       "      <th>0</th>\n",
       "      <td>37mock</td>\n",
       "      <td>BEC5</td>\n",
       "      <td>1</td>\n",
       "      <td>BEC5_1</td>\n",
       "      <td>343</td>\n",
       "      <td>1</td>\n",
       "      <td>343</td>\n",
       "    </tr>\n",
       "    <tr>\n",
       "      <th>1</th>\n",
       "      <td>37mock</td>\n",
       "      <td>BEC5</td>\n",
       "      <td>2</td>\n",
       "      <td>BEC5_2</td>\n",
       "      <td>306</td>\n",
       "      <td>344</td>\n",
       "      <td>649</td>\n",
       "    </tr>\n",
       "    <tr>\n",
       "      <th>2</th>\n",
       "      <td>37mock</td>\n",
       "      <td>BEC5</td>\n",
       "      <td>3</td>\n",
       "      <td>BEC5_3</td>\n",
       "      <td>331</td>\n",
       "      <td>650</td>\n",
       "      <td>980</td>\n",
       "    </tr>\n",
       "    <tr>\n",
       "      <th>3</th>\n",
       "      <td>37mock</td>\n",
       "      <td>BEC6</td>\n",
       "      <td>1</td>\n",
       "      <td>BEC6_1</td>\n",
       "      <td>359</td>\n",
       "      <td>981</td>\n",
       "      <td>1339</td>\n",
       "    </tr>\n",
       "    <tr>\n",
       "      <th>4</th>\n",
       "      <td>MERS</td>\n",
       "      <td>BEC5</td>\n",
       "      <td>1</td>\n",
       "      <td>BEC5_1</td>\n",
       "      <td>201</td>\n",
       "      <td>1340</td>\n",
       "      <td>1540</td>\n",
       "    </tr>\n",
       "    <tr>\n",
       "      <th>5</th>\n",
       "      <td>MERS</td>\n",
       "      <td>BEC5</td>\n",
       "      <td>2</td>\n",
       "      <td>BEC5_2</td>\n",
       "      <td>259</td>\n",
       "      <td>1541</td>\n",
       "      <td>1799</td>\n",
       "    </tr>\n",
       "    <tr>\n",
       "      <th>6</th>\n",
       "      <td>MERS</td>\n",
       "      <td>BEC6</td>\n",
       "      <td>1</td>\n",
       "      <td>BEC6_1</td>\n",
       "      <td>334</td>\n",
       "      <td>1800</td>\n",
       "      <td>2133</td>\n",
       "    </tr>\n",
       "  </tbody>\n",
       "</table>\n",
       "</div>"
      ],
      "text/plain": [
       "  condition donor  replicate sample_id  num_cells  cell_id_min  cell_id_max\n",
       "0    37mock  BEC5          1    BEC5_1        343            1          343\n",
       "1    37mock  BEC5          2    BEC5_2        306          344          649\n",
       "2    37mock  BEC5          3    BEC5_3        331          650          980\n",
       "3    37mock  BEC6          1    BEC6_1        359          981         1339\n",
       "4      MERS  BEC5          1    BEC5_1        201         1340         1540\n",
       "5      MERS  BEC5          2    BEC5_2        259         1541         1799\n",
       "6      MERS  BEC6          1    BEC6_1        334         1800         2133"
      ]
     },
     "execution_count": 59,
     "metadata": {},
     "output_type": "execute_result"
    }
   ],
   "source": [
    "ca.df.drop(columns=[\"time\", \"date\", \"sample\", \"mode1\", \"mode2\", \"filename\", \"filepath\", \"projection_types\"])"
   ]
  },
  {
   "cell_type": "markdown",
   "id": "eb1b85d1",
   "metadata": {},
   "source": [
    "And we now also have a cells table, which contains the information about the sample plus cell-specific information"
   ]
  },
  {
   "cell_type": "code",
   "execution_count": 60,
   "id": "683de48b",
   "metadata": {},
   "outputs": [
    {
     "data": {
      "text/html": [
       "<div>\n",
       "<style scoped>\n",
       "    .dataframe tbody tr th:only-of-type {\n",
       "        vertical-align: middle;\n",
       "    }\n",
       "\n",
       "    .dataframe tbody tr th {\n",
       "        vertical-align: top;\n",
       "    }\n",
       "\n",
       "    .dataframe thead th {\n",
       "        text-align: right;\n",
       "    }\n",
       "</style>\n",
       "<table border=\"1\" class=\"dataframe\">\n",
       "  <thead>\n",
       "    <tr style=\"text-align: right;\">\n",
       "      <th></th>\n",
       "      <th>condition</th>\n",
       "      <th>donor</th>\n",
       "      <th>replicate</th>\n",
       "      <th>sample_id</th>\n",
       "      <th>cell_id</th>\n",
       "      <th>cilia_mean</th>\n",
       "      <th>inf_mean</th>\n",
       "      <th>cilia_mean_log10</th>\n",
       "      <th>inf_mean_log10</th>\n",
       "    </tr>\n",
       "  </thead>\n",
       "  <tbody>\n",
       "    <tr>\n",
       "      <th>1200</th>\n",
       "      <td>37mock</td>\n",
       "      <td>BEC6</td>\n",
       "      <td>1</td>\n",
       "      <td>BEC6_1</td>\n",
       "      <td>1201</td>\n",
       "      <td>4685.717466</td>\n",
       "      <td>663.558219</td>\n",
       "      <td>3.670776</td>\n",
       "      <td>2.821879</td>\n",
       "    </tr>\n",
       "    <tr>\n",
       "      <th>1201</th>\n",
       "      <td>37mock</td>\n",
       "      <td>BEC6</td>\n",
       "      <td>1</td>\n",
       "      <td>BEC6_1</td>\n",
       "      <td>1202</td>\n",
       "      <td>5267.037348</td>\n",
       "      <td>680.481707</td>\n",
       "      <td>3.721566</td>\n",
       "      <td>2.832816</td>\n",
       "    </tr>\n",
       "    <tr>\n",
       "      <th>1202</th>\n",
       "      <td>37mock</td>\n",
       "      <td>BEC6</td>\n",
       "      <td>1</td>\n",
       "      <td>BEC6_1</td>\n",
       "      <td>1203</td>\n",
       "      <td>4266.040141</td>\n",
       "      <td>667.770423</td>\n",
       "      <td>3.630025</td>\n",
       "      <td>2.824627</td>\n",
       "    </tr>\n",
       "    <tr>\n",
       "      <th>1203</th>\n",
       "      <td>37mock</td>\n",
       "      <td>BEC6</td>\n",
       "      <td>1</td>\n",
       "      <td>BEC6_1</td>\n",
       "      <td>1204</td>\n",
       "      <td>4862.489869</td>\n",
       "      <td>680.087798</td>\n",
       "      <td>3.686859</td>\n",
       "      <td>2.832565</td>\n",
       "    </tr>\n",
       "    <tr>\n",
       "      <th>1204</th>\n",
       "      <td>37mock</td>\n",
       "      <td>BEC6</td>\n",
       "      <td>1</td>\n",
       "      <td>BEC6_1</td>\n",
       "      <td>1205</td>\n",
       "      <td>4480.508189</td>\n",
       "      <td>664.789017</td>\n",
       "      <td>3.651327</td>\n",
       "      <td>2.822684</td>\n",
       "    </tr>\n",
       "  </tbody>\n",
       "</table>\n",
       "</div>"
      ],
      "text/plain": [
       "     condition donor  replicate sample_id  cell_id   cilia_mean    inf_mean  \\\n",
       "1200    37mock  BEC6          1    BEC6_1     1201  4685.717466  663.558219   \n",
       "1201    37mock  BEC6          1    BEC6_1     1202  5267.037348  680.481707   \n",
       "1202    37mock  BEC6          1    BEC6_1     1203  4266.040141  667.770423   \n",
       "1203    37mock  BEC6          1    BEC6_1     1204  4862.489869  680.087798   \n",
       "1204    37mock  BEC6          1    BEC6_1     1205  4480.508189  664.789017   \n",
       "\n",
       "      cilia_mean_log10  inf_mean_log10  \n",
       "1200          3.670776        2.821879  \n",
       "1201          3.721566        2.832816  \n",
       "1202          3.630025        2.824627  \n",
       "1203          3.686859        2.832565  \n",
       "1204          3.651327        2.822684  "
      ]
     },
     "execution_count": 60,
     "metadata": {},
     "output_type": "execute_result"
    }
   ],
   "source": [
    "cells_df = ca.cells_df.drop(columns=[\"time\", \"date\", \"sample\", \"mode1\", \"mode2\", \"filename\", \"filepath\", \"projection_types\"])\n",
    "cells_df.iloc[1200:1205]"
   ]
  },
  {
   "cell_type": "markdown",
   "id": "c29604af",
   "metadata": {},
   "source": [
    "Save segmentation results, just for viusalization purposes"
   ]
  },
  {
   "cell_type": "code",
   "execution_count": 31,
   "id": "cb0e088c",
   "metadata": {},
   "outputs": [
    {
     "name": "stdout",
     "output_type": "stream",
     "text": [
      "Outlines saved.\n",
      "Masks saved.\n"
     ]
    }
   ],
   "source": [
    "ca.save_segmentation_imgs(background_channels=[4,2])"
   ]
  },
  {
   "cell_type": "markdown",
   "id": "ee98bd6e",
   "metadata": {},
   "source": [
    "## Calculate Cell Means"
   ]
  },
  {
   "cell_type": "code",
   "execution_count": null,
   "id": "0cac9e9f",
   "metadata": {},
   "outputs": [],
   "source": [
    "ca.get_cell_signals({\"cilia\": 4, \"inf\": 2}, mode=\"mean\")"
   ]
  },
  {
   "cell_type": "markdown",
   "id": "fd4598e1",
   "metadata": {},
   "source": [
    "We can get the masks with the signal means for each cell"
   ]
  },
  {
   "cell_type": "code",
   "execution_count": 89,
   "id": "4cbd277f",
   "metadata": {},
   "outputs": [
    {
     "data": {
      "image/png": "[encoded data removed]",
      "text/plain": [
       "<Figure size 640x480 with 1 Axes>"
      ]
     },
     "metadata": {},
     "output_type": "display_data"
    }
   ],
   "source": [
    "ex_mean_mask = ca.signals_masks[\"cilia\"][3]\n",
    "plt.imshow(ex_mean_mask)\n",
    "plt.axis(\"off\")\n",
    "plt.show()"
   ]
  },
  {
   "cell_type": "markdown",
   "id": "23bfe3ed",
   "metadata": {},
   "source": [
    "Save or load the data"
   ]
  },
  {
   "cell_type": "code",
   "execution_count": null,
   "id": "81ea6928",
   "metadata": {},
   "outputs": [],
   "source": [
    "# ca.save(overwrite=True)"
   ]
  },
  {
   "cell_type": "code",
   "execution_count": null,
   "id": "0c4b0292",
   "metadata": {},
   "outputs": [
    {
     "name": "stdout",
     "output_type": "stream",
     "text": [
      ">>> GPU activated? NO\n",
      ">>> GPU activated? NO\n"
     ]
    }
   ],
   "source": [
    "# ca = CellAnalyzer.load(in_path + \"/CellAnalyzer/CellAnalyzer.pkl\")"
   ]
  },
  {
   "cell_type": "markdown",
   "id": "fc42321d",
   "metadata": {},
   "source": [
    "## Define threshold and bin cells"
   ]
  },
  {
   "cell_type": "code",
   "execution_count": 90,
   "id": "ce41c52f",
   "metadata": {},
   "outputs": [],
   "source": [
    "cells_df = ca.cells_df.drop(columns=[\"time\", \"date\", \"sample\", \"mode1\", \"mode2\", \"filename\", \"filepath\", \"projection_types\"])"
   ]
  },
  {
   "cell_type": "code",
   "execution_count": 91,
   "id": "7888eca3",
   "metadata": {},
   "outputs": [
    {
     "data": {
      "text/html": [
       "<div>\n",
       "<style scoped>\n",
       "    .dataframe tbody tr th:only-of-type {\n",
       "        vertical-align: middle;\n",
       "    }\n",
       "\n",
       "    .dataframe tbody tr th {\n",
       "        vertical-align: top;\n",
       "    }\n",
       "\n",
       "    .dataframe thead th {\n",
       "        text-align: right;\n",
       "    }\n",
       "</style>\n",
       "<table border=\"1\" class=\"dataframe\">\n",
       "  <thead>\n",
       "    <tr style=\"text-align: right;\">\n",
       "      <th></th>\n",
       "      <th>condition</th>\n",
       "      <th>donor</th>\n",
       "      <th>replicate</th>\n",
       "      <th>sample_id</th>\n",
       "      <th>cell_id</th>\n",
       "      <th>cilia_mean</th>\n",
       "      <th>inf_mean</th>\n",
       "      <th>cilia_mean_log10</th>\n",
       "      <th>inf_mean_log10</th>\n",
       "      <th>cilia_median</th>\n",
       "      <th>cilia_median_log10</th>\n",
       "      <th>inf_median</th>\n",
       "      <th>inf_median_log10</th>\n",
       "    </tr>\n",
       "  </thead>\n",
       "  <tbody>\n",
       "    <tr>\n",
       "      <th>100</th>\n",
       "      <td>37mock</td>\n",
       "      <td>BEC5</td>\n",
       "      <td>1</td>\n",
       "      <td>BEC5_1</td>\n",
       "      <td>101</td>\n",
       "      <td>8412.242499</td>\n",
       "      <td>787.143876</td>\n",
       "      <td>3.924912</td>\n",
       "      <td>2.896054</td>\n",
       "      <td>8246.5</td>\n",
       "      <td>3.916270</td>\n",
       "      <td>781.0</td>\n",
       "      <td>2.892651</td>\n",
       "    </tr>\n",
       "    <tr>\n",
       "      <th>101</th>\n",
       "      <td>37mock</td>\n",
       "      <td>BEC5</td>\n",
       "      <td>1</td>\n",
       "      <td>BEC5_1</td>\n",
       "      <td>102</td>\n",
       "      <td>6998.027225</td>\n",
       "      <td>738.749389</td>\n",
       "      <td>3.844976</td>\n",
       "      <td>2.868497</td>\n",
       "      <td>6460.0</td>\n",
       "      <td>3.810233</td>\n",
       "      <td>729.0</td>\n",
       "      <td>2.862728</td>\n",
       "    </tr>\n",
       "    <tr>\n",
       "      <th>102</th>\n",
       "      <td>37mock</td>\n",
       "      <td>BEC5</td>\n",
       "      <td>1</td>\n",
       "      <td>BEC5_1</td>\n",
       "      <td>103</td>\n",
       "      <td>8252.469059</td>\n",
       "      <td>761.763201</td>\n",
       "      <td>3.916584</td>\n",
       "      <td>2.881820</td>\n",
       "      <td>8093.5</td>\n",
       "      <td>3.908136</td>\n",
       "      <td>755.0</td>\n",
       "      <td>2.877947</td>\n",
       "    </tr>\n",
       "    <tr>\n",
       "      <th>103</th>\n",
       "      <td>37mock</td>\n",
       "      <td>BEC5</td>\n",
       "      <td>1</td>\n",
       "      <td>BEC5_1</td>\n",
       "      <td>104</td>\n",
       "      <td>7182.439170</td>\n",
       "      <td>734.362422</td>\n",
       "      <td>3.856272</td>\n",
       "      <td>2.865910</td>\n",
       "      <td>6728.0</td>\n",
       "      <td>3.827886</td>\n",
       "      <td>726.0</td>\n",
       "      <td>2.860937</td>\n",
       "    </tr>\n",
       "    <tr>\n",
       "      <th>104</th>\n",
       "      <td>37mock</td>\n",
       "      <td>BEC5</td>\n",
       "      <td>1</td>\n",
       "      <td>BEC5_1</td>\n",
       "      <td>105</td>\n",
       "      <td>5421.504120</td>\n",
       "      <td>670.012118</td>\n",
       "      <td>3.734120</td>\n",
       "      <td>2.826083</td>\n",
       "      <td>4605.0</td>\n",
       "      <td>3.663230</td>\n",
       "      <td>657.0</td>\n",
       "      <td>2.817565</td>\n",
       "    </tr>\n",
       "  </tbody>\n",
       "</table>\n",
       "</div>"
      ],
      "text/plain": [
       "    condition donor  replicate sample_id  cell_id   cilia_mean    inf_mean  \\\n",
       "100    37mock  BEC5          1    BEC5_1      101  8412.242499  787.143876   \n",
       "101    37mock  BEC5          1    BEC5_1      102  6998.027225  738.749389   \n",
       "102    37mock  BEC5          1    BEC5_1      103  8252.469059  761.763201   \n",
       "103    37mock  BEC5          1    BEC5_1      104  7182.439170  734.362422   \n",
       "104    37mock  BEC5          1    BEC5_1      105  5421.504120  670.012118   \n",
       "\n",
       "     cilia_mean_log10  inf_mean_log10  cilia_median  cilia_median_log10  \\\n",
       "100          3.924912        2.896054        8246.5            3.916270   \n",
       "101          3.844976        2.868497        6460.0            3.810233   \n",
       "102          3.916584        2.881820        8093.5            3.908136   \n",
       "103          3.856272        2.865910        6728.0            3.827886   \n",
       "104          3.734120        2.826083        4605.0            3.663230   \n",
       "\n",
       "     inf_median  inf_median_log10  \n",
       "100       781.0          2.892651  \n",
       "101       729.0          2.862728  \n",
       "102       755.0          2.877947  \n",
       "103       726.0          2.860937  \n",
       "104       657.0          2.817565  "
      ]
     },
     "execution_count": 91,
     "metadata": {},
     "output_type": "execute_result"
    }
   ],
   "source": [
    "cells_df[100:105]"
   ]
  },
  {
   "cell_type": "code",
   "execution_count": null,
   "id": "2aa149c9",
   "metadata": {},
   "outputs": [
    {
     "name": "stdout",
     "output_type": "stream",
     "text": [
      "Inf log10 threshold: 3.8814102152725205\n"
     ]
    }
   ],
   "source": [
    "mock_inf_log10 = cells_df[cells_df[\"condition\"].str.contains(\"mock\")][\"inf_mean_log10\"]\n",
    "inf_log10_thresh = mock_inf_log10.mean() + 3 * mock_inf_log10.std()\n",
    "print(f\"Inf log10 threshold: {inf_log10_thresh}\")"
   ]
  },
  {
   "cell_type": "code",
   "execution_count": 95,
   "id": "5e2359d5",
   "metadata": {},
   "outputs": [],
   "source": [
    "margin = 1 * mock_inf_log10.std()\n",
    "cells_df[\"inf_bin\"] = \"non-infected\"\n",
    "cells_df.loc[cells_df[\"inf_mean_log10\"] > (inf_log10_thresh - margin), \"inf_bin\"] = \"low\"\n",
    "cells_df.loc[cells_df[\"inf_mean_log10\"] > inf_log10_thresh, \"inf_bin\"] = \"high\""
   ]
  },
  {
   "cell_type": "code",
   "execution_count": 99,
   "id": "66e47d36",
   "metadata": {},
   "outputs": [
    {
     "data": {
      "image/png": "[encoded data removed]",
      "text/plain": [
       "<Figure size 300x500 with 1 Axes>"
      ]
     },
     "metadata": {},
     "output_type": "display_data"
    }
   ],
   "source": [
    "fig, ax = plt.subplots(figsize=(3, 5), dpi=100)\n",
    "sns.scatterplot(data=cells_df[cells_df[\"condition\"].str.contains(\"MERS\")], x='inf_bin', y='cilia_mean', palette=\"Set1\", hue=\"sample_id\", ax=ax)\n",
    "plt.show()"
   ]
  }
 ],
 "metadata": {
  "kernelspec": {
   "display_name": "ivi-env",
   "language": "python",
   "name": "python3"
  },
  "language_info": {
   "codemirror_mode": {
    "name": "ipython",
    "version": 3
   },
   "file_extension": ".py",
   "mimetype": "text/x-python",
   "name": "python",
   "nbconvert_exporter": "python",
   "pygments_lexer": "ipython3",
   "version": "3.11.11"
  }
 },
 "nbformat": 4,
 "nbformat_minor": 5
}
