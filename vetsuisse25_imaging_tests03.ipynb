{
 "cells": [
  {
   "cell_type": "markdown",
   "id": "3a5c0eba",
   "metadata": {},
   "source": [
    "## Imports"
   ]
  },
  {
   "cell_type": "code",
   "execution_count": 322,
   "id": "f7452b6f",
   "metadata": {},
   "outputs": [
    {
     "name": "stdout",
     "output_type": "stream",
     "text": [
      "The autoreload extension is already loaded. To reload it, use:\n",
      "  %reload_ext autoreload\n"
     ]
    }
   ],
   "source": [
    "%load_ext autoreload\n",
    "%autoreload 2\n",
    "\n",
    "import os\n",
    "import sys\n",
    "# from napari_convpaint.conv_paint_utils import *\n",
    "# from napari_convpaint.conv_paint_model import *\n",
    "# from napari_convpaint.conv_paint_param import Param\n",
    "from PIL import Image\n",
    "import numpy as np\n",
    "from matplotlib import pyplot as plt\n",
    "import napari\n",
    "from skimage import morphology\n",
    "import seaborn as sns\n",
    "import pandas as pd\n",
    "from aicsimageio import AICSImage\n",
    "\n",
    "from CellAnalyzer import CellAnalyzer"
   ]
  },
  {
   "cell_type": "markdown",
   "id": "96729a33",
   "metadata": {},
   "source": [
    "## Data loading and inspection"
   ]
  },
  {
   "cell_type": "markdown",
   "id": "c582a2aa",
   "metadata": {},
   "source": [
    "Create an object with the path to the data."
   ]
  },
  {
   "cell_type": "code",
   "execution_count": 323,
   "id": "7a927c05",
   "metadata": {},
   "outputs": [
    {
     "name": "stdout",
     "output_type": "stream",
     "text": [
      ">>> GPU activated? NO\n"
     ]
    }
   ],
   "source": [
    "in_path = \"../imaging_data/21122022_images_jinglecells_SO_AK\"\n",
    "ca = CellAnalyzer(in_path)"
   ]
  },
  {
   "cell_type": "markdown",
   "id": "0bdb78d2",
   "metadata": {},
   "source": [
    "Display the data table."
   ]
  },
  {
   "cell_type": "code",
   "execution_count": 325,
   "id": "ec5b02e7",
   "metadata": {},
   "outputs": [
    {
     "name": "stdout",
     "output_type": "stream",
     "text": [
      "14 images loaded\n"
     ]
    },
    {
     "data": {
      "text/html": [
       "<div>\n",
       "<style scoped>\n",
       "    .dataframe tbody tr th:only-of-type {\n",
       "        vertical-align: middle;\n",
       "    }\n",
       "\n",
       "    .dataframe tbody tr th {\n",
       "        vertical-align: top;\n",
       "    }\n",
       "\n",
       "    .dataframe thead th {\n",
       "        text-align: right;\n",
       "    }\n",
       "</style>\n",
       "<table border=\"1\" class=\"dataframe\">\n",
       "  <thead>\n",
       "    <tr style=\"text-align: right;\">\n",
       "      <th></th>\n",
       "      <th>condition</th>\n",
       "      <th>donor</th>\n",
       "      <th>time</th>\n",
       "      <th>date</th>\n",
       "      <th>replicate</th>\n",
       "      <th>mode1</th>\n",
       "      <th>mode2</th>\n",
       "      <th>filename</th>\n",
       "      <th>filepath</th>\n",
       "    </tr>\n",
       "  </thead>\n",
       "  <tbody>\n",
       "    <tr>\n",
       "      <th>0</th>\n",
       "      <td>229E</td>\n",
       "      <td>BEC5</td>\n",
       "      <td>48h</td>\n",
       "      <td>2022-12-21</td>\n",
       "      <td>00</td>\n",
       "      <td>R3D</td>\n",
       "      <td>D3D</td>\n",
       "      <td>229E_BEC5_48h_21.12.22_R3D_D3D.dv</td>\n",
       "      <td>C:\\Users\\roman\\Documents\\Vetsuisse\\imaging_dat...</td>\n",
       "    </tr>\n",
       "    <tr>\n",
       "      <th>1</th>\n",
       "      <td>229E</td>\n",
       "      <td>BEC5</td>\n",
       "      <td>48h</td>\n",
       "      <td>2022-12-21</td>\n",
       "      <td>02</td>\n",
       "      <td>R3D</td>\n",
       "      <td>D3D</td>\n",
       "      <td>229E_BEC5_48h_21.12.22.02_R3D_D3D.dv</td>\n",
       "      <td>C:\\Users\\roman\\Documents\\Vetsuisse\\imaging_dat...</td>\n",
       "    </tr>\n",
       "    <tr>\n",
       "      <th>2</th>\n",
       "      <td>229E</td>\n",
       "      <td>BEC5</td>\n",
       "      <td>48h</td>\n",
       "      <td>2022-12-21</td>\n",
       "      <td>03</td>\n",
       "      <td>R3D</td>\n",
       "      <td>D3D</td>\n",
       "      <td>229E_BEC5_48h_21.12.22.03_R3D_D3D.dv</td>\n",
       "      <td>C:\\Users\\roman\\Documents\\Vetsuisse\\imaging_dat...</td>\n",
       "    </tr>\n",
       "    <tr>\n",
       "      <th>3</th>\n",
       "      <td>229E</td>\n",
       "      <td>BEC6</td>\n",
       "      <td>48h</td>\n",
       "      <td>2022-12-21</td>\n",
       "      <td>01</td>\n",
       "      <td>R3D</td>\n",
       "      <td>D3D</td>\n",
       "      <td>229E_BEC6_48h_21.12.22.01_R3D_D3D.dv</td>\n",
       "      <td>C:\\Users\\roman\\Documents\\Vetsuisse\\imaging_dat...</td>\n",
       "    </tr>\n",
       "    <tr>\n",
       "      <th>4</th>\n",
       "      <td>33mock</td>\n",
       "      <td>BEC5</td>\n",
       "      <td>48h</td>\n",
       "      <td>2022-12-21</td>\n",
       "      <td>02</td>\n",
       "      <td>R3D</td>\n",
       "      <td>D3D</td>\n",
       "      <td>33mock_BEC5_48h_21.12.22.02_R3D_D3D.dv</td>\n",
       "      <td>C:\\Users\\roman\\Documents\\Vetsuisse\\imaging_dat...</td>\n",
       "    </tr>\n",
       "    <tr>\n",
       "      <th>5</th>\n",
       "      <td>33mock</td>\n",
       "      <td>BEC6</td>\n",
       "      <td>48h</td>\n",
       "      <td>2022-12-21</td>\n",
       "      <td>01</td>\n",
       "      <td>R3D</td>\n",
       "      <td>D3D</td>\n",
       "      <td>33mock_BEC6_48h_21.12.22.01_R3D_D3D.dv</td>\n",
       "      <td>C:\\Users\\roman\\Documents\\Vetsuisse\\imaging_dat...</td>\n",
       "    </tr>\n",
       "    <tr>\n",
       "      <th>6</th>\n",
       "      <td>33mock</td>\n",
       "      <td>BEC6</td>\n",
       "      <td>48h</td>\n",
       "      <td>2022-12-21</td>\n",
       "      <td>02</td>\n",
       "      <td>R3D</td>\n",
       "      <td>D3D</td>\n",
       "      <td>33mock_BEC6_48h_21.12.22.02_R3D_D3D.dv</td>\n",
       "      <td>C:\\Users\\roman\\Documents\\Vetsuisse\\imaging_dat...</td>\n",
       "    </tr>\n",
       "    <tr>\n",
       "      <th>7</th>\n",
       "      <td>37mock</td>\n",
       "      <td>BEC5</td>\n",
       "      <td>48h</td>\n",
       "      <td>2022-12-21</td>\n",
       "      <td>00</td>\n",
       "      <td>R3D</td>\n",
       "      <td>D3D</td>\n",
       "      <td>37mock_BEC5_48h_21.12.22_R3D_D3D.dv</td>\n",
       "      <td>C:\\Users\\roman\\Documents\\Vetsuisse\\imaging_dat...</td>\n",
       "    </tr>\n",
       "    <tr>\n",
       "      <th>8</th>\n",
       "      <td>37mock</td>\n",
       "      <td>BEC5</td>\n",
       "      <td>48h</td>\n",
       "      <td>2022-12-21</td>\n",
       "      <td>01</td>\n",
       "      <td>R3D</td>\n",
       "      <td>D3D</td>\n",
       "      <td>37mock_BEC5_48h_21.12.22.01_R3D_D3D.dv</td>\n",
       "      <td>C:\\Users\\roman\\Documents\\Vetsuisse\\imaging_dat...</td>\n",
       "    </tr>\n",
       "    <tr>\n",
       "      <th>9</th>\n",
       "      <td>37mock</td>\n",
       "      <td>BEC5</td>\n",
       "      <td>48h</td>\n",
       "      <td>2022-12-21</td>\n",
       "      <td>03</td>\n",
       "      <td>R3D</td>\n",
       "      <td>D3D</td>\n",
       "      <td>37mock_BEC5_48h_21.12.22.03_R3D_D3D.dv</td>\n",
       "      <td>C:\\Users\\roman\\Documents\\Vetsuisse\\imaging_dat...</td>\n",
       "    </tr>\n",
       "    <tr>\n",
       "      <th>10</th>\n",
       "      <td>37mock</td>\n",
       "      <td>BEC6</td>\n",
       "      <td>48h</td>\n",
       "      <td>2022-12-21</td>\n",
       "      <td>00</td>\n",
       "      <td>R3D</td>\n",
       "      <td>D3D</td>\n",
       "      <td>37mock_BEC6_48h_21.12.22_R3D_D3D.dv</td>\n",
       "      <td>C:\\Users\\roman\\Documents\\Vetsuisse\\imaging_dat...</td>\n",
       "    </tr>\n",
       "    <tr>\n",
       "      <th>11</th>\n",
       "      <td>MERS</td>\n",
       "      <td>BEC5</td>\n",
       "      <td>48h</td>\n",
       "      <td>2022-12-21</td>\n",
       "      <td>00</td>\n",
       "      <td>R3D</td>\n",
       "      <td>D3D</td>\n",
       "      <td>MERS_BEC5_48h_21.12.22_R3D_D3D.dv</td>\n",
       "      <td>C:\\Users\\roman\\Documents\\Vetsuisse\\imaging_dat...</td>\n",
       "    </tr>\n",
       "    <tr>\n",
       "      <th>12</th>\n",
       "      <td>MERS</td>\n",
       "      <td>BEC5</td>\n",
       "      <td>48h</td>\n",
       "      <td>2023-12-21</td>\n",
       "      <td>00</td>\n",
       "      <td>R3D</td>\n",
       "      <td>D3D</td>\n",
       "      <td>MERS_BEC5_48h_21.12.23_R3D_D3D.dv</td>\n",
       "      <td>C:\\Users\\roman\\Documents\\Vetsuisse\\imaging_dat...</td>\n",
       "    </tr>\n",
       "    <tr>\n",
       "      <th>13</th>\n",
       "      <td>MERS</td>\n",
       "      <td>BEC6</td>\n",
       "      <td>48h</td>\n",
       "      <td>2022-12-21</td>\n",
       "      <td>01</td>\n",
       "      <td>R3D</td>\n",
       "      <td>D3D</td>\n",
       "      <td>MERS_BEC6_48h_21.12.22.01_R3D_D3D.dv</td>\n",
       "      <td>C:\\Users\\roman\\Documents\\Vetsuisse\\imaging_dat...</td>\n",
       "    </tr>\n",
       "  </tbody>\n",
       "</table>\n",
       "</div>"
      ],
      "text/plain": [
       "   condition donor time       date replicate mode1 mode2  \\\n",
       "0       229E  BEC5  48h 2022-12-21        00   R3D   D3D   \n",
       "1       229E  BEC5  48h 2022-12-21        02   R3D   D3D   \n",
       "2       229E  BEC5  48h 2022-12-21        03   R3D   D3D   \n",
       "3       229E  BEC6  48h 2022-12-21        01   R3D   D3D   \n",
       "4     33mock  BEC5  48h 2022-12-21        02   R3D   D3D   \n",
       "5     33mock  BEC6  48h 2022-12-21        01   R3D   D3D   \n",
       "6     33mock  BEC6  48h 2022-12-21        02   R3D   D3D   \n",
       "7     37mock  BEC5  48h 2022-12-21        00   R3D   D3D   \n",
       "8     37mock  BEC5  48h 2022-12-21        01   R3D   D3D   \n",
       "9     37mock  BEC5  48h 2022-12-21        03   R3D   D3D   \n",
       "10    37mock  BEC6  48h 2022-12-21        00   R3D   D3D   \n",
       "11      MERS  BEC5  48h 2022-12-21        00   R3D   D3D   \n",
       "12      MERS  BEC5  48h 2023-12-21        00   R3D   D3D   \n",
       "13      MERS  BEC6  48h 2022-12-21        01   R3D   D3D   \n",
       "\n",
       "                                  filename  \\\n",
       "0        229E_BEC5_48h_21.12.22_R3D_D3D.dv   \n",
       "1     229E_BEC5_48h_21.12.22.02_R3D_D3D.dv   \n",
       "2     229E_BEC5_48h_21.12.22.03_R3D_D3D.dv   \n",
       "3     229E_BEC6_48h_21.12.22.01_R3D_D3D.dv   \n",
       "4   33mock_BEC5_48h_21.12.22.02_R3D_D3D.dv   \n",
       "5   33mock_BEC6_48h_21.12.22.01_R3D_D3D.dv   \n",
       "6   33mock_BEC6_48h_21.12.22.02_R3D_D3D.dv   \n",
       "7      37mock_BEC5_48h_21.12.22_R3D_D3D.dv   \n",
       "8   37mock_BEC5_48h_21.12.22.01_R3D_D3D.dv   \n",
       "9   37mock_BEC5_48h_21.12.22.03_R3D_D3D.dv   \n",
       "10     37mock_BEC6_48h_21.12.22_R3D_D3D.dv   \n",
       "11       MERS_BEC5_48h_21.12.22_R3D_D3D.dv   \n",
       "12       MERS_BEC5_48h_21.12.23_R3D_D3D.dv   \n",
       "13    MERS_BEC6_48h_21.12.22.01_R3D_D3D.dv   \n",
       "\n",
       "                                             filepath  \n",
       "0   C:\\Users\\roman\\Documents\\Vetsuisse\\imaging_dat...  \n",
       "1   C:\\Users\\roman\\Documents\\Vetsuisse\\imaging_dat...  \n",
       "2   C:\\Users\\roman\\Documents\\Vetsuisse\\imaging_dat...  \n",
       "3   C:\\Users\\roman\\Documents\\Vetsuisse\\imaging_dat...  \n",
       "4   C:\\Users\\roman\\Documents\\Vetsuisse\\imaging_dat...  \n",
       "5   C:\\Users\\roman\\Documents\\Vetsuisse\\imaging_dat...  \n",
       "6   C:\\Users\\roman\\Documents\\Vetsuisse\\imaging_dat...  \n",
       "7   C:\\Users\\roman\\Documents\\Vetsuisse\\imaging_dat...  \n",
       "8   C:\\Users\\roman\\Documents\\Vetsuisse\\imaging_dat...  \n",
       "9   C:\\Users\\roman\\Documents\\Vetsuisse\\imaging_dat...  \n",
       "10  C:\\Users\\roman\\Documents\\Vetsuisse\\imaging_dat...  \n",
       "11  C:\\Users\\roman\\Documents\\Vetsuisse\\imaging_dat...  \n",
       "12  C:\\Users\\roman\\Documents\\Vetsuisse\\imaging_dat...  \n",
       "13  C:\\Users\\roman\\Documents\\Vetsuisse\\imaging_dat...  "
      ]
     },
     "metadata": {},
     "output_type": "display_data"
    }
   ],
   "source": [
    "table, imgs = ca.read_data()\n",
    "display(table)"
   ]
  },
  {
   "cell_type": "markdown",
   "id": "fb389b0f",
   "metadata": {},
   "source": [
    "Check dimensions."
   ]
  },
  {
   "cell_type": "code",
   "execution_count": 326,
   "id": "ebaf7031",
   "metadata": {},
   "outputs": [
    {
     "data": {
      "text/plain": [
       "(4, 68, 960, 960)"
      ]
     },
     "execution_count": 326,
     "metadata": {},
     "output_type": "execute_result"
    }
   ],
   "source": [
    "imgs[0].shape"
   ]
  },
  {
   "cell_type": "markdown",
   "id": "c1490365",
   "metadata": {},
   "source": [
    "Create projections."
   ]
  },
  {
   "cell_type": "code",
   "execution_count": 327,
   "id": "ff1058dd",
   "metadata": {},
   "outputs": [],
   "source": [
    "projections = ca.create_projections(types=[\"max\", \"max\", \"max\", \"max\"])"
   ]
  },
  {
   "cell_type": "code",
   "execution_count": 328,
   "id": "1273b2a4",
   "metadata": {},
   "outputs": [
    {
     "name": "stdout",
     "output_type": "stream",
     "text": [
      "(4, 960, 960)\n",
      "['max', 'max', 'max', 'max']\n"
     ]
    }
   ],
   "source": [
    "print(projections[0].shape)\n",
    "print(ca.projections_types)"
   ]
  },
  {
   "cell_type": "code",
   "execution_count": 330,
   "id": "c97908df",
   "metadata": {},
   "outputs": [],
   "source": [
    "ca.save()"
   ]
  },
  {
   "cell_type": "code",
   "execution_count": 331,
   "id": "8c083081",
   "metadata": {},
   "outputs": [
    {
     "name": "stdout",
     "output_type": "stream",
     "text": [
      ">>> GPU activated? NO\n",
      ">>> GPU activated? NO\n"
     ]
    }
   ],
   "source": [
    "ca2 = CellAnalyzer.load(\"../imaging_data/21122022_images_jinglecells_SO_AK/CellAnalyzer/CellAnalyzer.pkl\")"
   ]
  },
  {
   "cell_type": "code",
   "execution_count": 332,
   "id": "9600c9db",
   "metadata": {},
   "outputs": [
    {
     "data": {
      "text/html": [
       "<div>\n",
       "<style scoped>\n",
       "    .dataframe tbody tr th:only-of-type {\n",
       "        vertical-align: middle;\n",
       "    }\n",
       "\n",
       "    .dataframe tbody tr th {\n",
       "        vertical-align: top;\n",
       "    }\n",
       "\n",
       "    .dataframe thead th {\n",
       "        text-align: right;\n",
       "    }\n",
       "</style>\n",
       "<table border=\"1\" class=\"dataframe\">\n",
       "  <thead>\n",
       "    <tr style=\"text-align: right;\">\n",
       "      <th></th>\n",
       "      <th>condition</th>\n",
       "      <th>donor</th>\n",
       "      <th>time</th>\n",
       "      <th>date</th>\n",
       "      <th>replicate</th>\n",
       "      <th>mode1</th>\n",
       "      <th>mode2</th>\n",
       "      <th>filename</th>\n",
       "      <th>filepath</th>\n",
       "      <th>projection_types</th>\n",
       "    </tr>\n",
       "  </thead>\n",
       "  <tbody>\n",
       "    <tr>\n",
       "      <th>0</th>\n",
       "      <td>229E</td>\n",
       "      <td>BEC5</td>\n",
       "      <td>48h</td>\n",
       "      <td>2022-12-21</td>\n",
       "      <td>00</td>\n",
       "      <td>R3D</td>\n",
       "      <td>D3D</td>\n",
       "      <td>229E_BEC5_48h_21.12.22_R3D_D3D.dv</td>\n",
       "      <td>C:\\Users\\roman\\Documents\\Vetsuisse\\imaging_dat...</td>\n",
       "      <td>[max, max, max, max]</td>\n",
       "    </tr>\n",
       "  </tbody>\n",
       "</table>\n",
       "</div>"
      ],
      "text/plain": [
       "  condition donor time       date replicate mode1 mode2  \\\n",
       "0      229E  BEC5  48h 2022-12-21        00   R3D   D3D   \n",
       "\n",
       "                            filename  \\\n",
       "0  229E_BEC5_48h_21.12.22_R3D_D3D.dv   \n",
       "\n",
       "                                            filepath      projection_types  \n",
       "0  C:\\Users\\roman\\Documents\\Vetsuisse\\imaging_dat...  [max, max, max, max]  "
      ]
     },
     "execution_count": 332,
     "metadata": {},
     "output_type": "execute_result"
    }
   ],
   "source": [
    "ca2.df.iloc[:1]"
   ]
  },
  {
   "cell_type": "code",
   "execution_count": 380,
   "id": "9c4630a0",
   "metadata": {},
   "outputs": [
    {
     "name": "stderr",
     "output_type": "stream",
     "text": [
      "c:\\Users\\roman\\Documents\\Vetsuisse\\imaging\\CellAnalyzer.py:306: RuntimeWarning: overflow encountered in scalar subtract\n",
      "  print(\"new_max:\", new_max, \"prev_max:\", prev_max)\n"
     ]
    }
   ],
   "source": [
    "masks, flows, styles, imgs_dn, outlines = ca.segment(channels=[3,1])"
   ]
  },
  {
   "cell_type": "code",
   "execution_count": null,
   "id": "073101cb",
   "metadata": {},
   "outputs": [
    {
     "name": "stdout",
     "output_type": "stream",
     "text": [
      "prev_max 0 new_max 115\n",
      "prev_max 115 new_max 24\n",
      "prev_max 139 new_max 91\n",
      "prev_max 230 new_max 272\n",
      "prev_max 502 new_max 341\n",
      "prev_max 843 new_max 352\n",
      "prev_max 1195 new_max 339\n",
      "prev_max 1534 new_max 343\n",
      "prev_max 1877 new_max 306\n",
      "prev_max 2183 new_max 331\n",
      "prev_max 2514 new_max 359\n",
      "prev_max 2873 new_max 201\n",
      "prev_max 3074 new_max 259\n",
      "prev_max 3333 new_max 334\n"
     ]
    },
    {
     "name": "stderr",
     "output_type": "stream",
     "text": [
      "C:\\Users\\roman\\AppData\\Local\\Temp\\ipykernel_10916\\1216590254.py:10: RuntimeWarning: overflow encountered in scalar subtract\n",
      "  ca.df.at[i, \"num_cells\"] = new_max - prev_max\n"
     ]
    }
   ],
   "source": [
    "# Make cell IDs unique (continuing from previous image)\n",
    "prev_max = 0\n",
    "new_masks = []\n",
    "for i, mask in enumerate(masks):\n",
    "    \n",
    "    new_mask = mask.copy()\n",
    "    # Add the number of cells to the DataFrame (as int)\n",
    "    new_max = mask.max()\n",
    "    print(\"prev_max\", prev_max, \"new_max\", mask.max())\n",
    "    ca.df.at[i, \"num_cells\"] = new_max - prev_max\n",
    "    # Make the cell IDs unique\n",
    "    new_mask += prev_max\n",
    "    new_mask[new_mask == prev_max] = 0\n",
    "\n",
    "    # Save the cell IDs in the DataFrame\n",
    "    ca.df.at[i, \"cell_id_min\"] = prev_max + 1\n",
    "    ca.df.at[i, \"cell_id_max\"] = new_max\n",
    "\n",
    "    # Set the previous max to the current max\n",
    "    prev_max = new_mask.max()\n",
    "\n",
    "    # Append the new mask to the list\n",
    "    new_masks.append(new_mask)\n",
    "\n",
    "# Save the new masks in the object\n",
    "ca.masks = new_masks"
   ]
  },
  {
   "cell_type": "code",
   "execution_count": 354,
   "id": "cb0e088c",
   "metadata": {},
   "outputs": [
    {
     "name": "stdout",
     "output_type": "stream",
     "text": [
      "Segmentation results saved.\n"
     ]
    }
   ],
   "source": [
    "ca.save_segmentations()"
   ]
  },
  {
   "cell_type": "code",
   "execution_count": 381,
   "id": "0cac9e9f",
   "metadata": {},
   "outputs": [],
   "source": [
    "ca.get_means({\"cilia\": 4, \"inf\": 2})"
   ]
  },
  {
   "cell_type": "code",
   "execution_count": 382,
   "id": "4cbd277f",
   "metadata": {},
   "outputs": [
    {
     "data": {
      "text/plain": [
       "<matplotlib.image.AxesImage at 0x1640fc88310>"
      ]
     },
     "execution_count": 382,
     "metadata": {},
     "output_type": "execute_result"
    },
    {
     "data": {
      "image/png": "[encoded data removed]",
      "text/plain": [
       "<Figure size 640x480 with 1 Axes>"
      ]
     },
     "metadata": {},
     "output_type": "display_data"
    }
   ],
   "source": [
    "ex_mean_mask = ca.signal_means_masks[\"inf\"][0]\n",
    "plt.imshow(ex_mean_mask)"
   ]
  },
  {
   "cell_type": "code",
   "execution_count": 383,
   "id": "98ac2694",
   "metadata": {},
   "outputs": [
    {
     "data": {
      "text/html": [
       "<div>\n",
       "<style scoped>\n",
       "    .dataframe tbody tr th:only-of-type {\n",
       "        vertical-align: middle;\n",
       "    }\n",
       "\n",
       "    .dataframe tbody tr th {\n",
       "        vertical-align: top;\n",
       "    }\n",
       "\n",
       "    .dataframe thead th {\n",
       "        text-align: right;\n",
       "    }\n",
       "</style>\n",
       "<table border=\"1\" class=\"dataframe\">\n",
       "  <thead>\n",
       "    <tr style=\"text-align: right;\">\n",
       "      <th></th>\n",
       "      <th>condition</th>\n",
       "      <th>donor</th>\n",
       "      <th>replicate</th>\n",
       "      <th>filename</th>\n",
       "      <th>projection_types</th>\n",
       "      <th>num_cells</th>\n",
       "      <th>cell_id_min</th>\n",
       "      <th>cell_id_max</th>\n",
       "    </tr>\n",
       "  </thead>\n",
       "  <tbody>\n",
       "    <tr>\n",
       "      <th>0</th>\n",
       "      <td>229E</td>\n",
       "      <td>BEC5</td>\n",
       "      <td>00</td>\n",
       "      <td>229E_BEC5_48h_21.12.22_R3D_D3D.dv</td>\n",
       "      <td>[max, max, max, max]</td>\n",
       "      <td>115</td>\n",
       "      <td>1</td>\n",
       "      <td>115</td>\n",
       "    </tr>\n",
       "    <tr>\n",
       "      <th>1</th>\n",
       "      <td>229E</td>\n",
       "      <td>BEC5</td>\n",
       "      <td>02</td>\n",
       "      <td>229E_BEC5_48h_21.12.22.02_R3D_D3D.dv</td>\n",
       "      <td>[max, max, max, max]</td>\n",
       "      <td>65445</td>\n",
       "      <td>116</td>\n",
       "      <td>24</td>\n",
       "    </tr>\n",
       "    <tr>\n",
       "      <th>2</th>\n",
       "      <td>229E</td>\n",
       "      <td>BEC5</td>\n",
       "      <td>03</td>\n",
       "      <td>229E_BEC5_48h_21.12.22.03_R3D_D3D.dv</td>\n",
       "      <td>[max, max, max, max]</td>\n",
       "      <td>65488</td>\n",
       "      <td>140</td>\n",
       "      <td>91</td>\n",
       "    </tr>\n",
       "    <tr>\n",
       "      <th>3</th>\n",
       "      <td>229E</td>\n",
       "      <td>BEC6</td>\n",
       "      <td>01</td>\n",
       "      <td>229E_BEC6_48h_21.12.22.01_R3D_D3D.dv</td>\n",
       "      <td>[max, max, max, max]</td>\n",
       "      <td>42</td>\n",
       "      <td>231</td>\n",
       "      <td>272</td>\n",
       "    </tr>\n",
       "    <tr>\n",
       "      <th>4</th>\n",
       "      <td>33mock</td>\n",
       "      <td>BEC5</td>\n",
       "      <td>02</td>\n",
       "      <td>33mock_BEC5_48h_21.12.22.02_R3D_D3D.dv</td>\n",
       "      <td>[max, max, max, max]</td>\n",
       "      <td>65375</td>\n",
       "      <td>503</td>\n",
       "      <td>341</td>\n",
       "    </tr>\n",
       "    <tr>\n",
       "      <th>5</th>\n",
       "      <td>33mock</td>\n",
       "      <td>BEC6</td>\n",
       "      <td>01</td>\n",
       "      <td>33mock_BEC6_48h_21.12.22.01_R3D_D3D.dv</td>\n",
       "      <td>[max, max, max, max]</td>\n",
       "      <td>65045</td>\n",
       "      <td>844</td>\n",
       "      <td>352</td>\n",
       "    </tr>\n",
       "    <tr>\n",
       "      <th>6</th>\n",
       "      <td>33mock</td>\n",
       "      <td>BEC6</td>\n",
       "      <td>02</td>\n",
       "      <td>33mock_BEC6_48h_21.12.22.02_R3D_D3D.dv</td>\n",
       "      <td>[max, max, max, max]</td>\n",
       "      <td>64680</td>\n",
       "      <td>1196</td>\n",
       "      <td>339</td>\n",
       "    </tr>\n",
       "    <tr>\n",
       "      <th>7</th>\n",
       "      <td>37mock</td>\n",
       "      <td>BEC5</td>\n",
       "      <td>00</td>\n",
       "      <td>37mock_BEC5_48h_21.12.22_R3D_D3D.dv</td>\n",
       "      <td>[max, max, max, max]</td>\n",
       "      <td>64345</td>\n",
       "      <td>1535</td>\n",
       "      <td>343</td>\n",
       "    </tr>\n",
       "    <tr>\n",
       "      <th>8</th>\n",
       "      <td>37mock</td>\n",
       "      <td>BEC5</td>\n",
       "      <td>01</td>\n",
       "      <td>37mock_BEC5_48h_21.12.22.01_R3D_D3D.dv</td>\n",
       "      <td>[max, max, max, max]</td>\n",
       "      <td>63965</td>\n",
       "      <td>1878</td>\n",
       "      <td>306</td>\n",
       "    </tr>\n",
       "    <tr>\n",
       "      <th>9</th>\n",
       "      <td>37mock</td>\n",
       "      <td>BEC5</td>\n",
       "      <td>03</td>\n",
       "      <td>37mock_BEC5_48h_21.12.22.03_R3D_D3D.dv</td>\n",
       "      <td>[max, max, max, max]</td>\n",
       "      <td>63684</td>\n",
       "      <td>2184</td>\n",
       "      <td>331</td>\n",
       "    </tr>\n",
       "    <tr>\n",
       "      <th>10</th>\n",
       "      <td>37mock</td>\n",
       "      <td>BEC6</td>\n",
       "      <td>00</td>\n",
       "      <td>37mock_BEC6_48h_21.12.22_R3D_D3D.dv</td>\n",
       "      <td>[max, max, max, max]</td>\n",
       "      <td>63381</td>\n",
       "      <td>2515</td>\n",
       "      <td>359</td>\n",
       "    </tr>\n",
       "    <tr>\n",
       "      <th>11</th>\n",
       "      <td>MERS</td>\n",
       "      <td>BEC5</td>\n",
       "      <td>00</td>\n",
       "      <td>MERS_BEC5_48h_21.12.22_R3D_D3D.dv</td>\n",
       "      <td>[max, max, max, max]</td>\n",
       "      <td>62864</td>\n",
       "      <td>2874</td>\n",
       "      <td>201</td>\n",
       "    </tr>\n",
       "    <tr>\n",
       "      <th>12</th>\n",
       "      <td>MERS</td>\n",
       "      <td>BEC5</td>\n",
       "      <td>00</td>\n",
       "      <td>MERS_BEC5_48h_21.12.23_R3D_D3D.dv</td>\n",
       "      <td>[max, max, max, max]</td>\n",
       "      <td>62721</td>\n",
       "      <td>3075</td>\n",
       "      <td>259</td>\n",
       "    </tr>\n",
       "    <tr>\n",
       "      <th>13</th>\n",
       "      <td>MERS</td>\n",
       "      <td>BEC6</td>\n",
       "      <td>01</td>\n",
       "      <td>MERS_BEC6_48h_21.12.22.01_R3D_D3D.dv</td>\n",
       "      <td>[max, max, max, max]</td>\n",
       "      <td>62537</td>\n",
       "      <td>3334</td>\n",
       "      <td>334</td>\n",
       "    </tr>\n",
       "  </tbody>\n",
       "</table>\n",
       "</div>"
      ],
      "text/plain": [
       "   condition donor replicate                                filename  \\\n",
       "0       229E  BEC5        00       229E_BEC5_48h_21.12.22_R3D_D3D.dv   \n",
       "1       229E  BEC5        02    229E_BEC5_48h_21.12.22.02_R3D_D3D.dv   \n",
       "2       229E  BEC5        03    229E_BEC5_48h_21.12.22.03_R3D_D3D.dv   \n",
       "3       229E  BEC6        01    229E_BEC6_48h_21.12.22.01_R3D_D3D.dv   \n",
       "4     33mock  BEC5        02  33mock_BEC5_48h_21.12.22.02_R3D_D3D.dv   \n",
       "5     33mock  BEC6        01  33mock_BEC6_48h_21.12.22.01_R3D_D3D.dv   \n",
       "6     33mock  BEC6        02  33mock_BEC6_48h_21.12.22.02_R3D_D3D.dv   \n",
       "7     37mock  BEC5        00     37mock_BEC5_48h_21.12.22_R3D_D3D.dv   \n",
       "8     37mock  BEC5        01  37mock_BEC5_48h_21.12.22.01_R3D_D3D.dv   \n",
       "9     37mock  BEC5        03  37mock_BEC5_48h_21.12.22.03_R3D_D3D.dv   \n",
       "10    37mock  BEC6        00     37mock_BEC6_48h_21.12.22_R3D_D3D.dv   \n",
       "11      MERS  BEC5        00       MERS_BEC5_48h_21.12.22_R3D_D3D.dv   \n",
       "12      MERS  BEC5        00       MERS_BEC5_48h_21.12.23_R3D_D3D.dv   \n",
       "13      MERS  BEC6        01    MERS_BEC6_48h_21.12.22.01_R3D_D3D.dv   \n",
       "\n",
       "        projection_types  num_cells  cell_id_min  cell_id_max  \n",
       "0   [max, max, max, max]        115            1          115  \n",
       "1   [max, max, max, max]      65445          116           24  \n",
       "2   [max, max, max, max]      65488          140           91  \n",
       "3   [max, max, max, max]         42          231          272  \n",
       "4   [max, max, max, max]      65375          503          341  \n",
       "5   [max, max, max, max]      65045          844          352  \n",
       "6   [max, max, max, max]      64680         1196          339  \n",
       "7   [max, max, max, max]      64345         1535          343  \n",
       "8   [max, max, max, max]      63965         1878          306  \n",
       "9   [max, max, max, max]      63684         2184          331  \n",
       "10  [max, max, max, max]      63381         2515          359  \n",
       "11  [max, max, max, max]      62864         2874          201  \n",
       "12  [max, max, max, max]      62721         3075          259  \n",
       "13  [max, max, max, max]      62537         3334          334  "
      ]
     },
     "execution_count": 383,
     "metadata": {},
     "output_type": "execute_result"
    }
   ],
   "source": [
    "ca.df.drop(columns=[\"time\", \"date\", \"mode1\", \"mode2\", \"filepath\"])"
   ]
  },
  {
   "cell_type": "code",
   "execution_count": 384,
   "id": "9f5e66dd",
   "metadata": {},
   "outputs": [
    {
     "name": "stdout",
     "output_type": "stream",
     "text": [
      "new_max: 115 prev_max: 0\n",
      "new_max: 24 prev_max: 115\n",
      "new_max: 91 prev_max: 139\n",
      "new_max: 272 prev_max: 230\n",
      "new_max: 341 prev_max: 502\n",
      "new_max: 352 prev_max: 843\n",
      "new_max: 339 prev_max: 1195\n",
      "new_max: 343 prev_max: 1534\n",
      "new_max: 306 prev_max: 1877\n",
      "new_max: 331 prev_max: 2183\n",
      "new_max: 359 prev_max: 2514\n",
      "new_max: 201 prev_max: 2873\n",
      "new_max: 259 prev_max: 3074\n",
      "new_max: 334 prev_max: 3333\n"
     ]
    },
    {
     "name": "stderr",
     "output_type": "stream",
     "text": [
      "C:\\Users\\roman\\AppData\\Local\\Temp\\ipykernel_10916\\325787814.py:9: RuntimeWarning: overflow encountered in scalar subtract\n",
      "  ca.df.at[i, \"num_cells\"] = new_max - prev_max\n"
     ]
    }
   ],
   "source": [
    "# Make cell IDs unique (continuing from previous image)\n",
    "prev_max = 0\n",
    "new_masks = []\n",
    "for i, mask in enumerate(masks):\n",
    "    new_mask = mask.copy()\n",
    "    # Add the number of cells to the DataFrame (as int)\n",
    "    new_max = mask.max()\n",
    "    print(\"new_max:\", new_max, \"prev_max:\", prev_max)\n",
    "    ca.df.at[i, \"num_cells\"] = new_max - prev_max\n",
    "    # Make the cell IDs unique\n",
    "    new_mask += prev_max\n",
    "    new_mask[new_mask == prev_max] = 0\n",
    "\n",
    "    # Save the cell IDs in the DataFrame\n",
    "    ca.df.at[i, \"cell_id_min\"] = prev_max + 1\n",
    "    ca.df.at[i, \"cell_id_max\"] = new_max\n",
    "\n",
    "    # Set the previous max to the current max\n",
    "    prev_max = new_mask.max()\n",
    "\n",
    "    # Append the new mask to the list\n",
    "    new_masks.append(new_mask)\n",
    "\n",
    "# Save the new masks in the object\n",
    "ca.masks = new_masks"
   ]
  },
  {
   "cell_type": "code",
   "execution_count": 385,
   "id": "683de48b",
   "metadata": {},
   "outputs": [
    {
     "data": {
      "text/html": [
       "<div>\n",
       "<style scoped>\n",
       "    .dataframe tbody tr th:only-of-type {\n",
       "        vertical-align: middle;\n",
       "    }\n",
       "\n",
       "    .dataframe tbody tr th {\n",
       "        vertical-align: top;\n",
       "    }\n",
       "\n",
       "    .dataframe thead th {\n",
       "        text-align: right;\n",
       "    }\n",
       "</style>\n",
       "<table border=\"1\" class=\"dataframe\">\n",
       "  <thead>\n",
       "    <tr style=\"text-align: right;\">\n",
       "      <th></th>\n",
       "      <th>condition</th>\n",
       "      <th>donor</th>\n",
       "      <th>replicate</th>\n",
       "      <th>filename</th>\n",
       "      <th>projection_types</th>\n",
       "      <th>cell_id</th>\n",
       "      <th>cilia_mean</th>\n",
       "      <th>inf_mean</th>\n",
       "    </tr>\n",
       "  </thead>\n",
       "  <tbody>\n",
       "  </tbody>\n",
       "</table>\n",
       "</div>"
      ],
      "text/plain": [
       "Empty DataFrame\n",
       "Columns: [condition, donor, replicate, filename, projection_types, cell_id, cilia_mean, inf_mean]\n",
       "Index: []"
      ]
     },
     "execution_count": 385,
     "metadata": {},
     "output_type": "execute_result"
    }
   ],
   "source": [
    "results_df = ca.cells_df.drop(columns=[\"time\", \"date\", \"mode1\", \"mode2\", \"filepath\"])\n",
    "results_df.iloc[200:205]"
   ]
  },
  {
   "cell_type": "markdown",
   "id": "b81745f2",
   "metadata": {},
   "source": [
    "Per condition:"
   ]
  },
  {
   "cell_type": "code",
   "execution_count": 386,
   "id": "371e5fd2",
   "metadata": {},
   "outputs": [
    {
     "data": {
      "text/html": [
       "<div>\n",
       "<style scoped>\n",
       "    .dataframe tbody tr th:only-of-type {\n",
       "        vertical-align: middle;\n",
       "    }\n",
       "\n",
       "    .dataframe tbody tr th {\n",
       "        vertical-align: top;\n",
       "    }\n",
       "\n",
       "    .dataframe thead tr th {\n",
       "        text-align: left;\n",
       "    }\n",
       "\n",
       "    .dataframe thead tr:last-of-type th {\n",
       "        text-align: right;\n",
       "    }\n",
       "</style>\n",
       "<table border=\"1\" class=\"dataframe\">\n",
       "  <thead>\n",
       "    <tr>\n",
       "      <th></th>\n",
       "      <th colspan=\"2\" halign=\"left\">cilia_mean</th>\n",
       "      <th colspan=\"2\" halign=\"left\">inf_mean</th>\n",
       "    </tr>\n",
       "    <tr>\n",
       "      <th></th>\n",
       "      <th>mean</th>\n",
       "      <th>std</th>\n",
       "      <th>mean</th>\n",
       "      <th>std</th>\n",
       "    </tr>\n",
       "    <tr>\n",
       "      <th>condition</th>\n",
       "      <th></th>\n",
       "      <th></th>\n",
       "      <th></th>\n",
       "      <th></th>\n",
       "    </tr>\n",
       "  </thead>\n",
       "  <tbody>\n",
       "    <tr>\n",
       "      <th>229E</th>\n",
       "      <td>5327.759626</td>\n",
       "      <td>1051.878952</td>\n",
       "      <td>1671.21582</td>\n",
       "      <td>1475.48111</td>\n",
       "    </tr>\n",
       "  </tbody>\n",
       "</table>\n",
       "</div>"
      ],
      "text/plain": [
       "            cilia_mean                 inf_mean            \n",
       "                  mean          std        mean         std\n",
       "condition                                                  \n",
       "229E       5327.759626  1051.878952  1671.21582  1475.48111"
      ]
     },
     "execution_count": 386,
     "metadata": {},
     "output_type": "execute_result"
    }
   ],
   "source": [
    "results_df.groupby('condition')[['cilia_mean', 'inf_mean']].aggregate([\"mean\", \"std\"])"
   ]
  },
  {
   "cell_type": "markdown",
   "id": "c06ef9a9",
   "metadata": {},
   "source": [
    "Per condition × donor:"
   ]
  },
  {
   "cell_type": "code",
   "execution_count": 387,
   "id": "0b14a43a",
   "metadata": {},
   "outputs": [
    {
     "data": {
      "text/html": [
       "<div>\n",
       "<style scoped>\n",
       "    .dataframe tbody tr th:only-of-type {\n",
       "        vertical-align: middle;\n",
       "    }\n",
       "\n",
       "    .dataframe tbody tr th {\n",
       "        vertical-align: top;\n",
       "    }\n",
       "\n",
       "    .dataframe thead tr th {\n",
       "        text-align: left;\n",
       "    }\n",
       "\n",
       "    .dataframe thead tr:last-of-type th {\n",
       "        text-align: right;\n",
       "    }\n",
       "</style>\n",
       "<table border=\"1\" class=\"dataframe\">\n",
       "  <thead>\n",
       "    <tr>\n",
       "      <th></th>\n",
       "      <th></th>\n",
       "      <th colspan=\"2\" halign=\"left\">cilia_mean</th>\n",
       "      <th colspan=\"2\" halign=\"left\">inf_mean</th>\n",
       "    </tr>\n",
       "    <tr>\n",
       "      <th></th>\n",
       "      <th></th>\n",
       "      <th>mean</th>\n",
       "      <th>std</th>\n",
       "      <th>mean</th>\n",
       "      <th>std</th>\n",
       "    </tr>\n",
       "    <tr>\n",
       "      <th>condition</th>\n",
       "      <th>donor</th>\n",
       "      <th></th>\n",
       "      <th></th>\n",
       "      <th></th>\n",
       "      <th></th>\n",
       "    </tr>\n",
       "  </thead>\n",
       "  <tbody>\n",
       "    <tr>\n",
       "      <th rowspan=\"2\" valign=\"top\">229E</th>\n",
       "      <th>BEC5</th>\n",
       "      <td>5446.748355</td>\n",
       "      <td>1042.686950</td>\n",
       "      <td>1490.587933</td>\n",
       "      <td>1049.488936</td>\n",
       "    </tr>\n",
       "    <tr>\n",
       "      <th>BEC6</th>\n",
       "      <td>5001.957155</td>\n",
       "      <td>1019.078393</td>\n",
       "      <td>2165.792175</td>\n",
       "      <td>2208.800467</td>\n",
       "    </tr>\n",
       "  </tbody>\n",
       "</table>\n",
       "</div>"
      ],
      "text/plain": [
       "                  cilia_mean                  inf_mean             \n",
       "                        mean          std         mean          std\n",
       "condition donor                                                    \n",
       "229E      BEC5   5446.748355  1042.686950  1490.587933  1049.488936\n",
       "          BEC6   5001.957155  1019.078393  2165.792175  2208.800467"
      ]
     },
     "execution_count": 387,
     "metadata": {},
     "output_type": "execute_result"
    }
   ],
   "source": [
    "results_df.groupby(['condition', 'donor'])[['cilia_mean', 'inf_mean']].aggregate([\"mean\", \"std\"])"
   ]
  },
  {
   "cell_type": "markdown",
   "id": "129af46c",
   "metadata": {},
   "source": [
    "Per replicate (to detect batch effects):"
   ]
  },
  {
   "cell_type": "code",
   "execution_count": 388,
   "id": "3823ce8d",
   "metadata": {},
   "outputs": [
    {
     "data": {
      "text/html": [
       "<div>\n",
       "<style scoped>\n",
       "    .dataframe tbody tr th:only-of-type {\n",
       "        vertical-align: middle;\n",
       "    }\n",
       "\n",
       "    .dataframe tbody tr th {\n",
       "        vertical-align: top;\n",
       "    }\n",
       "\n",
       "    .dataframe thead tr th {\n",
       "        text-align: left;\n",
       "    }\n",
       "\n",
       "    .dataframe thead tr:last-of-type th {\n",
       "        text-align: right;\n",
       "    }\n",
       "</style>\n",
       "<table border=\"1\" class=\"dataframe\">\n",
       "  <thead>\n",
       "    <tr>\n",
       "      <th></th>\n",
       "      <th></th>\n",
       "      <th colspan=\"2\" halign=\"left\">cilia_mean</th>\n",
       "      <th colspan=\"2\" halign=\"left\">inf_mean</th>\n",
       "    </tr>\n",
       "    <tr>\n",
       "      <th></th>\n",
       "      <th></th>\n",
       "      <th>mean</th>\n",
       "      <th>std</th>\n",
       "      <th>mean</th>\n",
       "      <th>std</th>\n",
       "    </tr>\n",
       "    <tr>\n",
       "      <th>condition</th>\n",
       "      <th>replicate</th>\n",
       "      <th></th>\n",
       "      <th></th>\n",
       "      <th></th>\n",
       "      <th></th>\n",
       "    </tr>\n",
       "  </thead>\n",
       "  <tbody>\n",
       "    <tr>\n",
       "      <th rowspan=\"2\" valign=\"top\">229E</th>\n",
       "      <th>00</th>\n",
       "      <td>5446.748355</td>\n",
       "      <td>1042.686950</td>\n",
       "      <td>1490.587933</td>\n",
       "      <td>1049.488936</td>\n",
       "    </tr>\n",
       "    <tr>\n",
       "      <th>01</th>\n",
       "      <td>5001.957155</td>\n",
       "      <td>1019.078393</td>\n",
       "      <td>2165.792175</td>\n",
       "      <td>2208.800467</td>\n",
       "    </tr>\n",
       "  </tbody>\n",
       "</table>\n",
       "</div>"
      ],
      "text/plain": [
       "                      cilia_mean                  inf_mean             \n",
       "                            mean          std         mean          std\n",
       "condition replicate                                                    \n",
       "229E      00         5446.748355  1042.686950  1490.587933  1049.488936\n",
       "          01         5001.957155  1019.078393  2165.792175  2208.800467"
      ]
     },
     "execution_count": 388,
     "metadata": {},
     "output_type": "execute_result"
    }
   ],
   "source": [
    "results_df.groupby(['condition', 'replicate'])[['cilia_mean', 'inf_mean']].aggregate([\"mean\", \"std\"])"
   ]
  },
  {
   "cell_type": "markdown",
   "id": "388cd40a",
   "metadata": {},
   "source": [
    "Visualize"
   ]
  },
  {
   "cell_type": "code",
   "execution_count": 389,
   "id": "bbf3aafc",
   "metadata": {},
   "outputs": [
    {
     "data": {
      "image/png": "[encoded data removed]",
      "text/plain": [
       "<Figure size 1000x500 with 1 Axes>"
      ]
     },
     "metadata": {},
     "output_type": "display_data"
    }
   ],
   "source": [
    "plt.figure(figsize=(10, 5))\n",
    "sns.boxplot(data=results_df, x='condition', y='cilia_mean')\n",
    "plt.title('Cilia signal per condition')\n",
    "plt.show()"
   ]
  },
  {
   "cell_type": "code",
   "execution_count": 390,
   "id": "00644d96",
   "metadata": {},
   "outputs": [
    {
     "data": {
      "image/png": "[encoded data removed]",
      "text/plain": [
       "<Figure size 1000x500 with 1 Axes>"
      ]
     },
     "metadata": {},
     "output_type": "display_data"
    }
   ],
   "source": [
    "plt.figure(figsize=(10, 5))\n",
    "sns.boxplot(data=results_df, x='condition', y='inf_mean')\n",
    "plt.title('Infection signal per condition')\n",
    "plt.show()"
   ]
  },
  {
   "cell_type": "code",
   "execution_count": 391,
   "id": "fe395be5",
   "metadata": {},
   "outputs": [
    {
     "data": {
      "image/png": "[encoded data removed]",
      "text/plain": [
       "<Figure size 2000x1000 with 2 Axes>"
      ]
     },
     "metadata": {},
     "output_type": "display_data"
    }
   ],
   "source": [
    "fig, ax = plt.subplots(1, 2, figsize=(20, 10))\n",
    "for i, sub in enumerate([(\"229E\", \"33mock\"), (\"MERS\", \"37mock\")]):\n",
    "    # Filter the two conditions out of the dataframe\n",
    "    sub_df = results_df.loc[(results_df['condition'] == sub[0]) | (results_df['condition'] == sub[1])]\n",
    "    # Create a scatter plot for the two conditions\n",
    "    sns.scatterplot(data=sub_df, x='cilia_mean', y='inf_mean', hue=\"condition\", style=\"donor\", ax=ax[i])\n",
    "plt.show()"
   ]
  },
  {
   "cell_type": "markdown",
   "id": "9a4696dd",
   "metadata": {},
   "source": [
    "Make meaningful summary."
   ]
  },
  {
   "cell_type": "code",
   "execution_count": 392,
   "id": "00325cd5",
   "metadata": {},
   "outputs": [
    {
     "data": {
      "text/html": [
       "<div>\n",
       "<style scoped>\n",
       "    .dataframe tbody tr th:only-of-type {\n",
       "        vertical-align: middle;\n",
       "    }\n",
       "\n",
       "    .dataframe tbody tr th {\n",
       "        vertical-align: top;\n",
       "    }\n",
       "\n",
       "    .dataframe thead th {\n",
       "        text-align: right;\n",
       "    }\n",
       "</style>\n",
       "<table border=\"1\" class=\"dataframe\">\n",
       "  <thead>\n",
       "    <tr style=\"text-align: right;\">\n",
       "      <th></th>\n",
       "      <th>condition</th>\n",
       "      <th>donor</th>\n",
       "      <th>replicate</th>\n",
       "      <th>cilia_mean</th>\n",
       "      <th>inf_mean</th>\n",
       "    </tr>\n",
       "  </thead>\n",
       "  <tbody>\n",
       "    <tr>\n",
       "      <th>0</th>\n",
       "      <td>229E</td>\n",
       "      <td>BEC5</td>\n",
       "      <td>00</td>\n",
       "      <td>5446.748355</td>\n",
       "      <td>1490.587933</td>\n",
       "    </tr>\n",
       "    <tr>\n",
       "      <th>1</th>\n",
       "      <td>229E</td>\n",
       "      <td>BEC6</td>\n",
       "      <td>01</td>\n",
       "      <td>5001.957155</td>\n",
       "      <td>2165.792175</td>\n",
       "    </tr>\n",
       "  </tbody>\n",
       "</table>\n",
       "</div>"
      ],
      "text/plain": [
       "  condition donor replicate   cilia_mean     inf_mean\n",
       "0      229E  BEC5        00  5446.748355  1490.587933\n",
       "1      229E  BEC6        01  5001.957155  2165.792175"
      ]
     },
     "execution_count": 392,
     "metadata": {},
     "output_type": "execute_result"
    }
   ],
   "source": [
    "replicate_summary = results_df.groupby(['condition', 'donor', 'replicate'])[\n",
    "    ['cilia_mean', 'inf_mean']\n",
    "].mean().reset_index()\n",
    "replicate_summary"
   ]
  },
  {
   "cell_type": "code",
   "execution_count": 393,
   "id": "bbda5912",
   "metadata": {},
   "outputs": [
    {
     "data": {
      "image/png": "[encoded data removed]",
      "text/plain": [
       "<Figure size 640x480 with 1 Axes>"
      ]
     },
     "metadata": {},
     "output_type": "display_data"
    }
   ],
   "source": [
    "sns.boxplot(data=replicate_summary, x=\"condition\", y=\"cilia_mean\")\n",
    "sns.stripplot(data=replicate_summary, x=\"condition\", y=\"cilia_mean\", hue=\"donor\", dodge=True)\n",
    "plt.show()"
   ]
  },
  {
   "cell_type": "code",
   "execution_count": 394,
   "id": "f5ad54f1",
   "metadata": {},
   "outputs": [
    {
     "data": {
      "image/png": "[encoded data removed]",
      "text/plain": [
       "<Figure size 640x480 with 1 Axes>"
      ]
     },
     "metadata": {},
     "output_type": "display_data"
    }
   ],
   "source": [
    "sns.boxplot(data=replicate_summary, x=\"condition\", y=\"inf_mean\")\n",
    "sns.stripplot(data=replicate_summary, x=\"condition\", y=\"inf_mean\", hue=\"donor\", dodge=True)\n",
    "plt.show()"
   ]
  }
 ],
 "metadata": {
  "kernelspec": {
   "display_name": "ivi-env",
   "language": "python",
   "name": "python3"
  },
  "language_info": {
   "codemirror_mode": {
    "name": "ipython",
    "version": 3
   },
   "file_extension": ".py",
   "mimetype": "text/x-python",
   "name": "python",
   "nbconvert_exporter": "python",
   "pygments_lexer": "ipython3",
   "version": "3.11.11"
  }
 },
 "nbformat": 4,
 "nbformat_minor": 5
}
